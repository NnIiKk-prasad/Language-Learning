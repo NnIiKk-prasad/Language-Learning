{
 "cells": [
  {
   "cell_type": "code",
   "execution_count": 1,
   "id": "f037650b",
   "metadata": {},
   "outputs": [],
   "source": [
    "import numpy as np"
   ]
  },
  {
   "cell_type": "markdown",
   "id": "83c8303d",
   "metadata": {},
   "source": [
    "## rank, determinant, trace, etc. of an array/matrix"
   ]
  },
  {
   "cell_type": "code",
   "execution_count": 2,
   "id": "6b5fcdd9",
   "metadata": {},
   "outputs": [
    {
     "name": "stdout",
     "output_type": "stream",
     "text": [
      "Rank of A: 3\n",
      "\n",
      "Trace of A: 11\n",
      "\n",
      "Determinant of A: -306.0\n",
      "\n",
      "Inverse of A:\n",
      " [[ 0.17647059 -0.00326797 -0.02287582]\n",
      " [ 0.05882353 -0.13071895  0.08496732]\n",
      " [-0.11764706  0.1503268   0.05228758]]\n",
      "\n",
      "Matrix A raised to power 3:\n",
      " [[336 162 228]\n",
      " [406 162 469]\n",
      " [698 702 905]]\n"
     ]
    }
   ],
   "source": [
    "A = np.array([[6, 1, 1],\n",
    "              [4, -2, 5],\n",
    "              [2, 8, 7]])\n",
    " \n",
    "# Rank of a matrix\n",
    "print(\"Rank of A:\", np.linalg.matrix_rank(A))\n",
    " \n",
    "# Trace of matrix A\n",
    "print(\"\\nTrace of A:\", np.trace(A))\n",
    " \n",
    "# Determinant of a matrix\n",
    "print(\"\\nDeterminant of A:\", np.linalg.det(A))\n",
    " \n",
    "# Inverse of matrix A\n",
    "print(\"\\nInverse of A:\\n\", np.linalg.inv(A))\n",
    " \n",
    "print(\"\\nMatrix A raised to power 3:\\n\", np.linalg.matrix_power(A, 3))"
   ]
  },
  {
   "cell_type": "markdown",
   "id": "488f0d8f",
   "metadata": {},
   "source": [
    "## Matrix eigenvalues Functions"
   ]
  },
  {
   "cell_type": "code",
   "execution_count": 3,
   "id": "00883a38",
   "metadata": {},
   "outputs": [
    {
     "name": "stdout",
     "output_type": "stream",
     "text": [
      "Array is :\n",
      " [[ 1.+0.j -0.-2.j]\n",
      " [ 0.+2.j  5.+0.j]]\n",
      "\n",
      "Eigen value is : [0.17157288 5.82842712]\n",
      "\n",
      "Corresponding eigenvectors (in columns) is :\n",
      " [[-0.92387953+0.j         -0.38268343+0.j        ]\n",
      " [ 0.        +0.38268343j  0.        -0.92387953j]]\n"
     ]
    }
   ],
   "source": [
    "a = np.array([[1, -2j], [2j, 5]])\n",
    " \n",
    "print(\"Array is :\\n\",a)\n",
    " \n",
    "# calculating an eigen value using eigh() function\n",
    "c, d = np.linalg.eigh(a)\n",
    " \n",
    "print(\"\\nEigen value is :\", c)\n",
    "print(\"\\nCorresponding eigenvectors (in columns) is :\\n\", d)"
   ]
  },
  {
   "cell_type": "code",
   "execution_count": 4,
   "id": "ebef0741",
   "metadata": {},
   "outputs": [
    {
     "name": "stdout",
     "output_type": "stream",
     "text": [
      "Array is :\n",
      " [[1 0 0]\n",
      " [0 2 0]\n",
      " [0 0 3]]\n",
      "\n",
      "Eigen value is : [1. 2. 3.]\n",
      "\n",
      "Corresponding eigenvectors (in columns) is :\n",
      " [[1. 0. 0.]\n",
      " [0. 1. 0.]\n",
      " [0. 0. 1.]]\n"
     ]
    }
   ],
   "source": [
    "a = np.diag((1, 2, 3))\n",
    " \n",
    "print(\"Array is :\\n\",a)\n",
    " \n",
    "# calculating an eigen value using eigh() function\n",
    "c, d = np.linalg.eigh(a)\n",
    " \n",
    "print(\"\\nEigen value is :\", c)\n",
    "print(\"\\nCorresponding eigenvectors (in columns) is :\\n\", d)"
   ]
  },
  {
   "cell_type": "markdown",
   "id": "8ada4976",
   "metadata": {},
   "source": [
    "## Matrix and vector products"
   ]
  },
  {
   "cell_type": "code",
   "execution_count": 5,
   "id": "92d32a87",
   "metadata": {},
   "outputs": [
    {
     "name": "stdout",
     "output_type": "stream",
     "text": [
      "Dot product of matrix 'a' and 'b' is:\n",
      " [[ 50  18]\n",
      " [122  48]]\n",
      "\n",
      "Cross product of matrix 'a' and 'b' is:\n",
      " [[ -6  12  -6]\n",
      " [-48  12  22]]\n"
     ]
    }
   ],
   "source": [
    "a = np.array([[1,2,3], [4,5,6]])\n",
    "b = np.array([[7,8,9], [2,8,0]])\n",
    "\n",
    "dot_matrix = np.dot(a,b.transpose())\n",
    "print(\"Dot product of matrix 'a' and 'b' is:\\n\", dot_matrix)\n",
    "\n",
    "cross_matrix = np.cross(a,b)\n",
    "print(\"\\nCross product of matrix 'a' and 'b' is:\\n\", cross_matrix)"
   ]
  },
  {
   "cell_type": "code",
   "execution_count": 6,
   "id": "786c9d21",
   "metadata": {},
   "outputs": [
    {
     "name": "stdout",
     "output_type": "stream",
     "text": [
      "Dot Product of scalar values  :  20\n",
      "Dot Product  :  (-7+22j)\n"
     ]
    }
   ],
   "source": [
    "# Scalars\n",
    "product = np.dot(5, 4)\n",
    "print(\"Dot Product of scalar values  : \", product)\n",
    " \n",
    "# 1D array\n",
    "vector_a = 2 + 3j\n",
    "vector_b = 4 + 5j\n",
    " \n",
    "product = np.dot(vector_a, vector_b)\n",
    "print(\"Dot Product  : \", product)"
   ]
  },
  {
   "cell_type": "code",
   "execution_count": 7,
   "id": "4969c577",
   "metadata": {},
   "outputs": [
    {
     "name": "stdout",
     "output_type": "stream",
     "text": [
      "Dot Product  :  (23-2j)\n"
     ]
    }
   ],
   "source": [
    "vector_a = 2 + 3j\n",
    "vector_b = 4 + 5j\n",
    " \n",
    "product = np.vdot(vector_a, vector_b)\n",
    "print(\"Dot Product  : \", product)"
   ]
  },
  {
   "cell_type": "markdown",
   "id": "7bc65d36",
   "metadata": {},
   "source": [
    "## Solving equations and inverting matrices"
   ]
  },
  {
   "cell_type": "code",
   "execution_count": 8,
   "id": "b03e6b0b",
   "metadata": {},
   "outputs": [
    {
     "name": "stdout",
     "output_type": "stream",
     "text": [
      "Solution of linear equations: [2. 3.]\n"
     ]
    }
   ],
   "source": [
    "a = np.array([[1, 2], [3, 4]])\n",
    "\n",
    "b = np.array([8, 18])\n",
    " \n",
    "print(\"Solution of linear equations:\", np.linalg.solve(a, b))"
   ]
  },
  {
   "cell_type": "code",
   "execution_count": null,
   "id": "d0469842",
   "metadata": {},
   "outputs": [],
   "source": []
  }
 ],
 "metadata": {
  "kernelspec": {
   "display_name": "Python 3 (ipykernel)",
   "language": "python",
   "name": "python3"
  },
  "language_info": {
   "codemirror_mode": {
    "name": "ipython",
    "version": 3
   },
   "file_extension": ".py",
   "mimetype": "text/x-python",
   "name": "python",
   "nbconvert_exporter": "python",
   "pygments_lexer": "ipython3",
   "version": "3.9.6"
  }
 },
 "nbformat": 4,
 "nbformat_minor": 5
}
