{
 "cells": [
  {
   "cell_type": "code",
   "execution_count": 1,
   "id": "c840d070",
   "metadata": {},
   "outputs": [],
   "source": [
    "import numpy as np"
   ]
  },
  {
   "cell_type": "markdown",
   "id": "5eb2ad77",
   "metadata": {},
   "source": [
    "### Checking NumPy Version"
   ]
  },
  {
   "cell_type": "code",
   "execution_count": 2,
   "id": "c97fc02f",
   "metadata": {},
   "outputs": [
    {
     "data": {
      "text/plain": [
       "'1.21.2'"
      ]
     },
     "execution_count": 2,
     "metadata": {},
     "output_type": "execute_result"
    }
   ],
   "source": [
    "np.__version__"
   ]
  },
  {
   "cell_type": "markdown",
   "id": "10e47419",
   "metadata": {},
   "source": [
    "### Creating Arrays"
   ]
  },
  {
   "cell_type": "code",
   "execution_count": 3,
   "id": "32a135b8",
   "metadata": {},
   "outputs": [
    {
     "name": "stdout",
     "output_type": "stream",
     "text": [
      "[ 0  1  2  3  4  5  6  7  8  9 10 11]\n"
     ]
    }
   ],
   "source": [
    "arr = np.arange(12)\n",
    "print(arr)"
   ]
  },
  {
   "cell_type": "code",
   "execution_count": 4,
   "id": "e64ecfb6",
   "metadata": {},
   "outputs": [
    {
     "name": "stdout",
     "output_type": "stream",
     "text": [
      "<class 'numpy.ndarray'>\n",
      "[1 2 3 4 5]\n"
     ]
    }
   ],
   "source": [
    "arr = np.array([1, 2, 3, 4, 5])  # from list\n",
    "print(type(arr))\n",
    "print(arr)"
   ]
  },
  {
   "cell_type": "code",
   "execution_count": 5,
   "id": "5818bda7",
   "metadata": {},
   "outputs": [
    {
     "name": "stdout",
     "output_type": "stream",
     "text": [
      "[1 2 3 4 5]\n"
     ]
    }
   ],
   "source": [
    "arr1 = np.array((1, 2, 3, 4, 5))  # from tuple\n",
    "print(arr1)"
   ]
  },
  {
   "cell_type": "code",
   "execution_count": 6,
   "id": "7e7a89a0",
   "metadata": {},
   "outputs": [
    {
     "name": "stdout",
     "output_type": "stream",
     "text": [
      "\n",
      "a = 42\n",
      "Dimension of a: 0\n",
      "\n",
      "b = [1 2 3 4 5]\n",
      "Dimension of b: 1\n",
      "\n",
      "c = [[1 2 3]\n",
      " [4 5 6]]\n",
      "Dimension of c: 2\n",
      "\n",
      "d = [[[1 2 3]\n",
      "  [4 5 6]]\n",
      "\n",
      " [[1 2 3]\n",
      "  [4 5 6]]]\n",
      "Dimension of d: 3\n"
     ]
    }
   ],
   "source": [
    "a = np.array(42)  # 0-D Array\n",
    "b = np.array([1, 2, 3, 4, 5])  # 1-D Array\n",
    "c = np.array([[1, 2, 3], [4, 5, 6]])  # 2-D Array\n",
    "d = np.array([[[1, 2, 3], [4, 5, 6]], [[1, 2, 3], [4, 5, 6]]])  # 3-D Array\n",
    "\n",
    "print(f\"\\na = {a}\\nDimension of a: {a.ndim}\")\n",
    "print(f\"\\nb = {b}\\nDimension of b: {b.ndim}\")\n",
    "print(f\"\\nc = {c}\\nDimension of c: {c.ndim}\")\n",
    "print(f\"\\nd = {d}\\nDimension of d: {d.ndim}\")"
   ]
  },
  {
   "cell_type": "code",
   "execution_count": 7,
   "id": "b670c72c",
   "metadata": {},
   "outputs": [
    {
     "name": "stdout",
     "output_type": "stream",
     "text": [
      "\n",
      "e = [[[[[1 2 3 4 5]]]]]\n",
      "Dimension of e: 5\n"
     ]
    }
   ],
   "source": [
    "e = np.array([1, 2, 3, 4, 5], ndmin=5)  # 5-D Array\n",
    "print(f\"\\ne = {e}\\nDimension of e: {e.ndim}\")"
   ]
  },
  {
   "cell_type": "code",
   "execution_count": null,
   "id": "781ec579",
   "metadata": {},
   "outputs": [],
   "source": []
  }
 ],
 "metadata": {
  "interpreter": {
   "hash": "0faa732a91a8d0cd071264ec9da2903fc5f9a81e757bf70acb6ca848bbff17c7"
  },
  "kernelspec": {
   "display_name": "Python 3 (ipykernel)",
   "language": "python",
   "name": "python3"
  },
  "language_info": {
   "codemirror_mode": {
    "name": "ipython",
    "version": 3
   },
   "file_extension": ".py",
   "mimetype": "text/x-python",
   "name": "python",
   "nbconvert_exporter": "python",
   "pygments_lexer": "ipython3",
   "version": "3.9.6"
  }
 },
 "nbformat": 4,
 "nbformat_minor": 5
}
