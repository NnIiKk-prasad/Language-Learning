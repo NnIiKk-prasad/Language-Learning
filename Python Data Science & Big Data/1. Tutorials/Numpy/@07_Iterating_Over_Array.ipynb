{
 "cells": [
  {
   "cell_type": "code",
   "execution_count": 1,
   "id": "39dca01b",
   "metadata": {},
   "outputs": [],
   "source": [
    "import numpy as np"
   ]
  },
  {
   "cell_type": "markdown",
   "id": "6cb3116f",
   "metadata": {},
   "source": [
    "# Iterating Arrays"
   ]
  },
  {
   "cell_type": "code",
   "execution_count": 2,
   "id": "6525679c",
   "metadata": {},
   "outputs": [
    {
     "name": "stdout",
     "output_type": "stream",
     "text": [
      "1\n",
      "2\n",
      "3\n"
     ]
    }
   ],
   "source": [
    "arr = np.array([1, 2, 3])\n",
    "\n",
    "for x in arr:\n",
    "  print(x)"
   ]
  },
  {
   "cell_type": "code",
   "execution_count": 3,
   "id": "76ae2fcb",
   "metadata": {},
   "outputs": [
    {
     "name": "stdout",
     "output_type": "stream",
     "text": [
      "[1 2 3]\n",
      "[4 5 6]\n"
     ]
    }
   ],
   "source": [
    "arr = np.array([[1, 2, 3], [4, 5, 6]])\n",
    "\n",
    "for x in arr:\n",
    "  print(x)"
   ]
  },
  {
   "cell_type": "code",
   "execution_count": 4,
   "id": "f01f8b06",
   "metadata": {},
   "outputs": [
    {
     "name": "stdout",
     "output_type": "stream",
     "text": [
      "1\n",
      "2\n",
      "3\n",
      "4\n",
      "5\n",
      "6\n"
     ]
    }
   ],
   "source": [
    "arr = np.array([[1, 2, 3], [4, 5, 6]])\n",
    "\n",
    "for x in arr:\n",
    "  for y in x:\n",
    "    print(y)"
   ]
  },
  {
   "cell_type": "code",
   "execution_count": 5,
   "id": "598e9350",
   "metadata": {},
   "outputs": [
    {
     "name": "stdout",
     "output_type": "stream",
     "text": [
      "[[1 2 3]\n",
      " [4 5 6]]\n",
      "[[ 7  8  9]\n",
      " [10 11 12]]\n"
     ]
    }
   ],
   "source": [
    "arr = np.array([[[1, 2, 3], [4, 5, 6]], [[7, 8, 9], [10, 11, 12]]])\n",
    "\n",
    "for x in arr:\n",
    "  print(x)"
   ]
  },
  {
   "cell_type": "code",
   "execution_count": 6,
   "id": "84a9a264",
   "metadata": {},
   "outputs": [
    {
     "name": "stdout",
     "output_type": "stream",
     "text": [
      "1\n",
      "2\n",
      "3\n",
      "4\n",
      "5\n",
      "6\n",
      "7\n",
      "8\n",
      "9\n",
      "10\n",
      "11\n",
      "12\n"
     ]
    }
   ],
   "source": [
    "arr = np.array([[[1, 2, 3], [4, 5, 6]], [[7, 8, 9], [10, 11, 12]]])\n",
    "\n",
    "for x in arr:\n",
    "  for y in x:\n",
    "    for z in y:\n",
    "      print(z)"
   ]
  },
  {
   "cell_type": "markdown",
   "id": "95a18832",
   "metadata": {},
   "source": [
    "## Iterating Arrays Using nditer()"
   ]
  },
  {
   "cell_type": "code",
   "execution_count": 7,
   "id": "acddfaa7",
   "metadata": {},
   "outputs": [
    {
     "name": "stdout",
     "output_type": "stream",
     "text": [
      "1\n",
      "2\n",
      "3\n",
      "4\n",
      "5\n",
      "6\n",
      "7\n",
      "8\n"
     ]
    }
   ],
   "source": [
    "arr = np.array([[[1, 2], [3, 4]], [[5, 6], [7, 8]]])\n",
    "\n",
    "for x in np.nditer(arr):\n",
    "  print(x)"
   ]
  },
  {
   "cell_type": "code",
   "execution_count": 12,
   "id": "3b18792b",
   "metadata": {},
   "outputs": [
    {
     "name": "stdout",
     "output_type": "stream",
     "text": [
      "[[ 0  1  2  3]\n",
      " [ 4  5  6  7]\n",
      " [ 8  9 10 11]] \n",
      "\n",
      "0 1 2 3 4 5 6 7 8 9 10 11 "
     ]
    }
   ],
   "source": [
    "arr = np.arange(12)\n",
    "arr = arr.reshape(3,4)\n",
    "\n",
    "print(arr, '\\n')\n",
    "\n",
    "for x in np.nditer(arr):\n",
    "    print(x, end=' ')"
   ]
  },
  {
   "cell_type": "markdown",
   "id": "7924751b",
   "metadata": {},
   "source": [
    "#### The order of iteration is chosen to match the memory layout of an array, without considering a particular ordering. This can be seen by iterating over the transpose of the above array."
   ]
  },
  {
   "cell_type": "code",
   "execution_count": 13,
   "id": "4940eef0",
   "metadata": {},
   "outputs": [
    {
     "name": "stdout",
     "output_type": "stream",
     "text": [
      "[[ 0  4  8]\n",
      " [ 1  5  9]\n",
      " [ 2  6 10]\n",
      " [ 3  7 11]] \n",
      "\n",
      "0 1 2 3 4 5 6 7 8 9 10 11 "
     ]
    }
   ],
   "source": [
    "arr = np.arange(12)\n",
    "arr = arr.reshape(3,4)\n",
    "arr = arr.T\n",
    "\n",
    "print(arr, '\\n')\n",
    "\n",
    "for x in np.nditer(arr):\n",
    "    print(x, end=' ')"
   ]
  },
  {
   "cell_type": "markdown",
   "id": "baa01c1c",
   "metadata": {},
   "source": [
    "### Controlling Iteration Order:"
   ]
  },
  {
   "cell_type": "code",
   "execution_count": 14,
   "id": "d0e15dad",
   "metadata": {},
   "outputs": [
    {
     "name": "stdout",
     "output_type": "stream",
     "text": [
      "[[ 0  1  2  3]\n",
      " [ 4  5  6  7]\n",
      " [ 8  9 10 11]] \n",
      "\n",
      "0 4 8 1 5 9 2 6 10 3 7 11 "
     ]
    }
   ],
   "source": [
    "arr = np.arange(12)\n",
    "arr = arr.reshape(3,4)\n",
    "\n",
    "print(arr, '\\n')\n",
    "\n",
    "for x in np.nditer(arr, order='F'):\n",
    "    print(x, end=' ')"
   ]
  },
  {
   "cell_type": "markdown",
   "id": "bee7009f",
   "metadata": {},
   "source": [
    "### Modifying Array Values:"
   ]
  },
  {
   "cell_type": "code",
   "execution_count": 18,
   "id": "fa67251a",
   "metadata": {},
   "outputs": [
    {
     "name": "stdout",
     "output_type": "stream",
     "text": [
      "[[ 0  1  2]\n",
      " [ 3  4  5]\n",
      " [ 6  7  8]\n",
      " [ 9 10 11]] \n",
      "\n",
      "[[ 0  5 10]\n",
      " [15 20 25]\n",
      " [30 35 40]\n",
      " [45 50 55]]\n"
     ]
    }
   ],
   "source": [
    "arr = np.arange(12)\n",
    "arr = arr.reshape(4,3)\n",
    "\n",
    "print(arr, '\\n')\n",
    "\n",
    "for x in np.nditer(arr, op_flags=['readwrite']):\n",
    "    x[...] = 5*x\n",
    "\n",
    "print(arr)"
   ]
  },
  {
   "cell_type": "markdown",
   "id": "09a66adf",
   "metadata": {},
   "source": [
    "### Iterating Array With Different Data Types:"
   ]
  },
  {
   "cell_type": "code",
   "execution_count": 8,
   "id": "1141d9f7",
   "metadata": {},
   "outputs": [
    {
     "name": "stdout",
     "output_type": "stream",
     "text": [
      "b'1'\n",
      "b'2'\n",
      "b'3'\n"
     ]
    }
   ],
   "source": [
    "arr = np.array([1, 2, 3])\n",
    "\n",
    "for x in np.nditer(arr, flags=['buffered'], op_dtypes=['S']):\n",
    "  print(x)"
   ]
  },
  {
   "cell_type": "markdown",
   "id": "0bc14759",
   "metadata": {},
   "source": [
    "### Iterating With Different Step Size:"
   ]
  },
  {
   "cell_type": "code",
   "execution_count": 9,
   "id": "735a9508",
   "metadata": {},
   "outputs": [
    {
     "name": "stdout",
     "output_type": "stream",
     "text": [
      "1\n",
      "3\n",
      "5\n",
      "7\n"
     ]
    }
   ],
   "source": [
    "arr = np.array([[1, 2, 3, 4], [5, 6, 7, 8]])\n",
    "\n",
    "for x in np.nditer(arr[:, ::2]):\n",
    "  print(x)"
   ]
  },
  {
   "cell_type": "markdown",
   "id": "7fec169c",
   "metadata": {},
   "source": [
    "### Broadcasting Iteration:\n",
    "If two arrays are broadcastable, a combined nditer object is able to iterate upon them concurrently."
   ]
  },
  {
   "cell_type": "code",
   "execution_count": 19,
   "id": "000b3998",
   "metadata": {},
   "outputs": [
    {
     "name": "stdout",
     "output_type": "stream",
     "text": [
      "[[ 0  1  2  3]\n",
      " [ 4  5  6  7]\n",
      " [ 8  9 10 11]] \n",
      "\n",
      "[5 6 7 8] \n",
      "\n",
      "Modified array is:\n",
      "0:5\n",
      "1:6\n",
      "2:7\n",
      "3:8\n",
      "4:5\n",
      "5:6\n",
      "6:7\n",
      "7:8\n",
      "8:5\n",
      "9:6\n",
      "10:7\n",
      "11:8\n"
     ]
    }
   ],
   "source": [
    "arr1 = np.arange(12)\n",
    "arr1 = arr1.reshape(3,4) \n",
    "print(arr1, '\\n')  \n",
    " \n",
    "arr2 = np.array([5, 6, 7, 8], dtype = int)  \n",
    "print(arr2, '\\n')\n",
    " \n",
    "print('Modified array is:')\n",
    "for x,y in np.nditer([arr1,arr2]): \n",
    "    print(\"%d:%d\" % (x,y))"
   ]
  },
  {
   "cell_type": "markdown",
   "id": "8b7d8a52",
   "metadata": {},
   "source": [
    "## Enumerated Iteration Using ndenumerate()"
   ]
  },
  {
   "cell_type": "code",
   "execution_count": 10,
   "id": "061568fd",
   "metadata": {},
   "outputs": [
    {
     "name": "stdout",
     "output_type": "stream",
     "text": [
      "(0,) 1\n",
      "(1,) 2\n",
      "(2,) 3\n"
     ]
    }
   ],
   "source": [
    "arr = np.array([1, 2, 3])\n",
    "\n",
    "for idx, x in np.ndenumerate(arr):\n",
    "  print(idx, x)"
   ]
  },
  {
   "cell_type": "code",
   "execution_count": 11,
   "id": "9d6f34e7",
   "metadata": {},
   "outputs": [
    {
     "name": "stdout",
     "output_type": "stream",
     "text": [
      "(0, 0) 1\n",
      "(0, 1) 2\n",
      "(0, 2) 3\n",
      "(0, 3) 4\n",
      "(1, 0) 5\n",
      "(1, 1) 6\n",
      "(1, 2) 7\n",
      "(1, 3) 8\n"
     ]
    }
   ],
   "source": [
    "arr = np.array([[1, 2, 3, 4], [5, 6, 7, 8]])\n",
    "\n",
    "for idx, x in np.ndenumerate(arr):\n",
    "  print(idx, x)"
   ]
  },
  {
   "cell_type": "code",
   "execution_count": null,
   "id": "5507ce62",
   "metadata": {},
   "outputs": [],
   "source": []
  }
 ],
 "metadata": {
  "kernelspec": {
   "display_name": "Python 3 (ipykernel)",
   "language": "python",
   "name": "python3"
  },
  "language_info": {
   "codemirror_mode": {
    "name": "ipython",
    "version": 3
   },
   "file_extension": ".py",
   "mimetype": "text/x-python",
   "name": "python",
   "nbconvert_exporter": "python",
   "pygments_lexer": "ipython3",
   "version": "3.9.6"
  }
 },
 "nbformat": 4,
 "nbformat_minor": 5
}
