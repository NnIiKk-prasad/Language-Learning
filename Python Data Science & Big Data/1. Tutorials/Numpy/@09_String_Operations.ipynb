{
 "cells": [
  {
   "cell_type": "code",
   "execution_count": 1,
   "id": "734bd4c2",
   "metadata": {},
   "outputs": [],
   "source": [
    "import numpy as np"
   ]
  },
  {
   "cell_type": "markdown",
   "id": "16a68046",
   "metadata": {},
   "source": [
    "### String Operations"
   ]
  },
  {
   "cell_type": "code",
   "execution_count": 2,
   "id": "2d0cd957",
   "metadata": {},
   "outputs": [
    {
     "name": "stdout",
     "output_type": "stream",
     "text": [
      "geeks\n",
      "['geeks' 'for']\n"
     ]
    }
   ],
   "source": [
    "print(np.char.lower('GEEKS'))\n",
    "\n",
    "print(np.char.lower(['GEEKS', 'FOR']))"
   ]
  },
  {
   "cell_type": "code",
   "execution_count": 3,
   "id": "c1b6ace8",
   "metadata": {},
   "outputs": [
    {
     "name": "stdout",
     "output_type": "stream",
     "text": [
      "['geeks', 'for', 'geeks']\n",
      "['geeks', ' for', ' geeks']\n"
     ]
    }
   ],
   "source": [
    "print(np.char.split('geeks for geeks'))\n",
    "\n",
    "print(np.char.split('geeks, for, geeks', sep = ','))"
   ]
  },
  {
   "cell_type": "code",
   "execution_count": 4,
   "id": "348cb765",
   "metadata": {},
   "outputs": [
    {
     "name": "stdout",
     "output_type": "stream",
     "text": [
      "g-e-e-k-s\n",
      "['g-e-e-k-s' 'f:o:r']\n"
     ]
    }
   ],
   "source": [
    "print(np.char.join('-', 'geeks'))\n",
    "\n",
    "print(np.char.join(['-', ':'], ['geeks', 'for']))"
   ]
  },
  {
   "cell_type": "markdown",
   "id": "e105ce7b",
   "metadata": {},
   "source": [
    "### String Information"
   ]
  },
  {
   "cell_type": "code",
   "execution_count": 5,
   "id": "1dd3548f",
   "metadata": {},
   "outputs": [
    {
     "name": "stdout",
     "output_type": "stream",
     "text": [
      "[1 0 1]\n",
      "[0 1 0]\n"
     ]
    }
   ],
   "source": [
    "a=np.array(['geeks', 'for', 'geeks'])\n",
    " \n",
    "# counting a substring\n",
    "print(np.char.count(a,'geek'))\n",
    " \n",
    "# counting a substring\n",
    "print(np.char.count(a, 'fo'))"
   ]
  },
  {
   "cell_type": "code",
   "execution_count": 6,
   "id": "45262e78",
   "metadata": {},
   "outputs": [
    {
     "name": "stdout",
     "output_type": "stream",
     "text": [
      "[ 0 -1  0]\n",
      "[-1  0 -1]\n"
     ]
    }
   ],
   "source": [
    "a=np.array(['geeks', 'for', 'geeks'])\n",
    " \n",
    "# counting a substring\n",
    "print(np.char.rfind(a,'geek'))\n",
    " \n",
    "# counting a substring\n",
    "print(np.char.rfind(a, 'fo'))"
   ]
  },
  {
   "cell_type": "code",
   "execution_count": 8,
   "id": "14f31669",
   "metadata": {},
   "outputs": [
    {
     "name": "stdout",
     "output_type": "stream",
     "text": [
      "False\n",
      "False\n"
     ]
    }
   ],
   "source": [
    "print(np.char.isnumeric('geeks'))\n",
    "\n",
    "print(np.char.isnumeric('12geeks'))"
   ]
  },
  {
   "cell_type": "markdown",
   "id": "834c9d58",
   "metadata": {},
   "source": [
    "### String Comparison"
   ]
  },
  {
   "cell_type": "code",
   "execution_count": 9,
   "id": "d99249ce",
   "metadata": {},
   "outputs": [
    {
     "name": "stdout",
     "output_type": "stream",
     "text": [
      "False\n"
     ]
    }
   ],
   "source": [
    "a=np.char.equal('geeks','for')\n",
    " \n",
    "print(a)"
   ]
  },
  {
   "cell_type": "code",
   "execution_count": 11,
   "id": "f215c083",
   "metadata": {},
   "outputs": [
    {
     "name": "stdout",
     "output_type": "stream",
     "text": [
      "True\n"
     ]
    }
   ],
   "source": [
    "a=np.char.not_equal('geeks','for')\n",
    "\n",
    "print(a)"
   ]
  },
  {
   "cell_type": "code",
   "execution_count": 12,
   "id": "de2bdd70",
   "metadata": {},
   "outputs": [
    {
     "name": "stdout",
     "output_type": "stream",
     "text": [
      "True\n"
     ]
    }
   ],
   "source": [
    "a=np.char.greater('geeks','for')\n",
    " \n",
    "print(a)"
   ]
  },
  {
   "cell_type": "code",
   "execution_count": null,
   "id": "7d9b82b9",
   "metadata": {},
   "outputs": [],
   "source": []
  }
 ],
 "metadata": {
  "kernelspec": {
   "display_name": "Python 3 (ipykernel)",
   "language": "python",
   "name": "python3"
  },
  "language_info": {
   "codemirror_mode": {
    "name": "ipython",
    "version": 3
   },
   "file_extension": ".py",
   "mimetype": "text/x-python",
   "name": "python",
   "nbconvert_exporter": "python",
   "pygments_lexer": "ipython3",
   "version": "3.9.6"
  }
 },
 "nbformat": 4,
 "nbformat_minor": 5
}
