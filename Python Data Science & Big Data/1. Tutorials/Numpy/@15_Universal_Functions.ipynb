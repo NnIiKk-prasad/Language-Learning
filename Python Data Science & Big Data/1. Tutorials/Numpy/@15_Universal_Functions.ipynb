{
 "cells": [
  {
   "cell_type": "markdown",
   "id": "bfaa7d36",
   "metadata": {},
   "source": [
    "# Why use ufuncs?\n",
    "ufuncs are used to implement vectorization in NumPy which is way faster than iterating over elements.\n",
    "\n",
    "They also provide broadcasting and additional methods like reduce, accumulate etc. that are very helpful for computation.\n",
    "\n",
    "ufuncs also take additional arguments, like:\n",
    "\n",
    "where - boolean array or condition defining where the operations should take place.\n",
    "\n",
    "dtype - defining the return type of elements.\n",
    "\n",
    "out - output array where the return value should be copied."
   ]
  },
  {
   "cell_type": "code",
   "execution_count": 1,
   "id": "9548d495",
   "metadata": {},
   "outputs": [],
   "source": [
    "import numpy as np"
   ]
  },
  {
   "cell_type": "markdown",
   "id": "36b6346b",
   "metadata": {},
   "source": [
    "## Create Your Own ufunc\n",
    "The frompyfunc() method takes the following arguments:\n",
    "\n",
    "function - the name of the function.\n",
    "\n",
    "inputs - the number of input arguments (arrays).\n",
    "\n",
    "outputs - the number of output arrays."
   ]
  },
  {
   "cell_type": "code",
   "execution_count": 2,
   "id": "51e26971",
   "metadata": {},
   "outputs": [
    {
     "name": "stdout",
     "output_type": "stream",
     "text": [
      "[6 8 10 12]\n"
     ]
    }
   ],
   "source": [
    "def myadd(x, y):\n",
    "  return x+y\n",
    "\n",
    "myadd = np.frompyfunc(myadd, 2, 1)\n",
    "\n",
    "print(myadd([1, 2, 3, 4], [5, 6, 7, 8]))"
   ]
  },
  {
   "cell_type": "code",
   "execution_count": 3,
   "id": "68569d38",
   "metadata": {},
   "outputs": [
    {
     "name": "stdout",
     "output_type": "stream",
     "text": [
      "<class 'numpy.ufunc'>\n"
     ]
    }
   ],
   "source": [
    "print(type(myadd))"
   ]
  },
  {
   "cell_type": "markdown",
   "id": "2d220bc6",
   "metadata": {},
   "source": [
    "## Simple Arithmetic"
   ]
  },
  {
   "cell_type": "code",
   "execution_count": 4,
   "id": "477985fe",
   "metadata": {},
   "outputs": [
    {
     "name": "stdout",
     "output_type": "stream",
     "text": [
      "[30 32 34 36 38 40]\n"
     ]
    }
   ],
   "source": [
    "arr1 = np.array([10, 11, 12, 13, 14, 15])\n",
    "arr2 = np.array([20, 21, 22, 23, 24, 25])\n",
    "\n",
    "newarr = np.add(arr1, arr2)\n",
    "\n",
    "print(newarr)"
   ]
  },
  {
   "cell_type": "code",
   "execution_count": 5,
   "id": "7960f7be",
   "metadata": {},
   "outputs": [
    {
     "name": "stdout",
     "output_type": "stream",
     "text": [
      "[-10  -1   8  17  26  35]\n"
     ]
    }
   ],
   "source": [
    "arr1 = np.array([10, 20, 30, 40, 50, 60])\n",
    "arr2 = np.array([20, 21, 22, 23, 24, 25])\n",
    "\n",
    "newarr = np.subtract(arr1, arr2)\n",
    "\n",
    "print(newarr)"
   ]
  },
  {
   "cell_type": "code",
   "execution_count": 6,
   "id": "f5e70b11",
   "metadata": {},
   "outputs": [
    {
     "name": "stdout",
     "output_type": "stream",
     "text": [
      "[ 200  420  660  920 1200 1500]\n"
     ]
    }
   ],
   "source": [
    "arr1 = np.array([10, 20, 30, 40, 50, 60])\n",
    "arr2 = np.array([20, 21, 22, 23, 24, 25])\n",
    "\n",
    "newarr = np.multiply(arr1, arr2)\n",
    "\n",
    "print(newarr)"
   ]
  },
  {
   "cell_type": "code",
   "execution_count": 7,
   "id": "dad62b1c",
   "metadata": {},
   "outputs": [
    {
     "name": "stdout",
     "output_type": "stream",
     "text": [
      "[ 3.33333333  4.          3.          5.         25.          1.81818182]\n"
     ]
    }
   ],
   "source": [
    "arr1 = np.array([10, 20, 30, 40, 50, 60])\n",
    "arr2 = np.array([3, 5, 10, 8, 2, 33])\n",
    "\n",
    "newarr = np.divide(arr1, arr2)\n",
    "\n",
    "print(newarr)"
   ]
  },
  {
   "cell_type": "code",
   "execution_count": 8,
   "id": "4481005b",
   "metadata": {},
   "outputs": [
    {
     "name": "stdout",
     "output_type": "stream",
     "text": [
      "Input  number :  2.0\n",
      "Output number :  0.5\n"
     ]
    }
   ],
   "source": [
    "in_num = 2.0\n",
    "print (\"Input  number : \", in_num)\n",
    " \n",
    "out_num = np.reciprocal(in_num)\n",
    "print (\"Output number : \", out_num)"
   ]
  },
  {
   "cell_type": "code",
   "execution_count": 9,
   "id": "8e4941bf",
   "metadata": {},
   "outputs": [
    {
     "name": "stdout",
     "output_type": "stream",
     "text": [
      "[      1000    3200000  729000000 -520093696       2500          0]\n"
     ]
    }
   ],
   "source": [
    "arr1 = np.array([10, 20, 30, 40, 50, 60])\n",
    "arr2 = np.array([3, 5, 6, 8, 2, 33])\n",
    "\n",
    "newarr = np.power(arr1, arr2)\n",
    "\n",
    "print(newarr)"
   ]
  },
  {
   "cell_type": "code",
   "execution_count": 10,
   "id": "9631f808",
   "metadata": {},
   "outputs": [
    {
     "name": "stdout",
     "output_type": "stream",
     "text": [
      "[ 1  6  3  0  0 27]\n",
      "[ 1  6  3  0  0 27]\n"
     ]
    }
   ],
   "source": [
    "arr1 = np.array([10, 20, 30, 40, 50, 60])\n",
    "arr2 = np.array([3, 7, 9, 8, 2, 33])\n",
    "\n",
    "newarr = np.mod(arr1, arr2)\n",
    "newarr1 = np.remainder(arr1, arr2)\n",
    "\n",
    "print(newarr)\n",
    "print(newarr1)"
   ]
  },
  {
   "cell_type": "code",
   "execution_count": 11,
   "id": "40bf312b",
   "metadata": {},
   "outputs": [
    {
     "name": "stdout",
     "output_type": "stream",
     "text": [
      "(array([ 3,  2,  3,  5, 25,  1], dtype=int32), array([ 1,  6,  3,  0,  0, 27], dtype=int32))\n"
     ]
    }
   ],
   "source": [
    "arr1 = np.array([10, 20, 30, 40, 50, 60])\n",
    "arr2 = np.array([3, 7, 9, 8, 2, 33])\n",
    "\n",
    "newarr = np.divmod(arr1, arr2)\n",
    "\n",
    "print(newarr)"
   ]
  },
  {
   "cell_type": "code",
   "execution_count": 12,
   "id": "0305ec90",
   "metadata": {},
   "outputs": [
    {
     "name": "stdout",
     "output_type": "stream",
     "text": [
      "[1 2 1 2 3 4]\n"
     ]
    }
   ],
   "source": [
    "arr = np.array([-1, -2, 1, 2, 3, -4])\n",
    "\n",
    "newarr = np.absolute(arr)\n",
    "\n",
    "print(newarr)"
   ]
  },
  {
   "cell_type": "markdown",
   "id": "b06e3b96",
   "metadata": {},
   "source": [
    "## Rounding Decimals\n",
    "There are primarily five ways of rounding off decimals in NumPy:\n",
    "\n",
    "truncation, fix, rounding, floor, ceil"
   ]
  },
  {
   "cell_type": "code",
   "execution_count": 13,
   "id": "e9fcf441",
   "metadata": {},
   "outputs": [
    {
     "name": "stdout",
     "output_type": "stream",
     "text": [
      "[-3.  3.] [-3.  3.] [-3.17  3.67] [-4.  3.] [-3.  4.]\n"
     ]
    }
   ],
   "source": [
    "lst = [-3.1666, 3.6667]\n",
    "\n",
    "arr1 = np.trunc(lst)\n",
    "arr2 = np.fix(lst)\n",
    "arr3 = np.around(lst, 2)\n",
    "arr4 = np.floor(lst)\n",
    "arr5 = np.ceil(lst)\n",
    "\n",
    "print(arr1, arr2, arr3, arr4, arr5)"
   ]
  },
  {
   "cell_type": "code",
   "execution_count": 14,
   "id": "24c47c07",
   "metadata": {},
   "outputs": [
    {
     "name": "stdout",
     "output_type": "stream",
     "text": [
      "Input array : \n",
      " [0.5, 1.5, 2.5, 3.5, 4.5, 10.1]\n",
      "\n",
      "Rounded values : \n",
      " [ 0.  2.  2.  4.  4. 10.]\n",
      "\n",
      "Input array : \n",
      " [0.53, 1.54, 0.71]\n",
      "\n",
      "Rounded values : \n",
      " [1. 2. 1.]\n",
      "\n",
      "Input array : \n",
      " [0.5538, 1.33354, 0.71445]\n",
      "\n",
      "Rounded values : \n",
      " [0.554 1.334 0.714]\n"
     ]
    }
   ],
   "source": [
    "in_array = [.5, 1.5, 2.5, 3.5, 4.5, 10.1]\n",
    "print (\"Input array : \\n\", in_array)\n",
    " \n",
    "round_off_values = np.around(in_array)\n",
    "print (\"\\nRounded values : \\n\", round_off_values)\n",
    " \n",
    " \n",
    "in_array = [.53, 1.54, .71]\n",
    "print (\"\\nInput array : \\n\", in_array)\n",
    " \n",
    "round_off_values = np.around(in_array)\n",
    "print (\"\\nRounded values : \\n\", round_off_values)\n",
    " \n",
    "in_array = [.5538, 1.33354, .71445]\n",
    "print (\"\\nInput array : \\n\", in_array)\n",
    " \n",
    "round_off_values = np.around(in_array, decimals = 3)\n",
    "print (\"\\nRounded values : \\n\", round_off_values)"
   ]
  },
  {
   "cell_type": "markdown",
   "id": "7b0f0b52",
   "metadata": {},
   "source": [
    "## Exponents and logarithms Functions"
   ]
  },
  {
   "cell_type": "code",
   "execution_count": 15,
   "id": "81bb8228",
   "metadata": {},
   "outputs": [
    {
     "name": "stdout",
     "output_type": "stream",
     "text": [
      "Input array :  [1, 3, 5]\n",
      "Output array :  [  2.71828183  20.08553692 148.4131591 ]\n"
     ]
    }
   ],
   "source": [
    "in_array = [1, 3, 5]\n",
    "print (\"Input array : \", in_array)\n",
    " \n",
    "out_array = np.exp(in_array)\n",
    "print (\"Output array : \", out_array)"
   ]
  },
  {
   "cell_type": "code",
   "execution_count": 16,
   "id": "d4b58125",
   "metadata": {},
   "outputs": [
    {
     "name": "stdout",
     "output_type": "stream",
     "text": [
      "[0.         0.69314718 1.09861229 1.38629436 1.60943791 1.79175947\n",
      " 1.94591015 2.07944154 2.19722458]\n"
     ]
    }
   ],
   "source": [
    "arr = np.arange(1, 10)\n",
    "\n",
    "print(np.log(arr))"
   ]
  },
  {
   "cell_type": "code",
   "execution_count": 17,
   "id": "23174154",
   "metadata": {},
   "outputs": [
    {
     "name": "stdout",
     "output_type": "stream",
     "text": [
      "[0.         1.         1.5849625  2.         2.32192809 2.5849625\n",
      " 2.80735492 3.         3.169925  ]\n"
     ]
    }
   ],
   "source": [
    "arr = np.arange(1, 10)\n",
    "\n",
    "print(np.log2(arr))"
   ]
  },
  {
   "cell_type": "code",
   "execution_count": 18,
   "id": "19936c1f",
   "metadata": {},
   "outputs": [
    {
     "name": "stdout",
     "output_type": "stream",
     "text": [
      "[0.         0.30103    0.47712125 0.60205999 0.69897    0.77815125\n",
      " 0.84509804 0.90308999 0.95424251]\n"
     ]
    }
   ],
   "source": [
    "arr = np.arange(1, 10)\n",
    "\n",
    "print(np.log10(arr))"
   ]
  },
  {
   "cell_type": "markdown",
   "id": "825c0da0",
   "metadata": {},
   "source": [
    "### Log at Any Base"
   ]
  },
  {
   "cell_type": "code",
   "execution_count": 19,
   "id": "b385a188",
   "metadata": {},
   "outputs": [
    {
     "name": "stdout",
     "output_type": "stream",
     "text": [
      "1.7005483074552052\n"
     ]
    }
   ],
   "source": [
    "from math import log\n",
    "\n",
    "nplog = np.frompyfunc(log, 2, 1)\n",
    "\n",
    "print(nplog(100, 15))"
   ]
  },
  {
   "cell_type": "markdown",
   "id": "8873b093",
   "metadata": {},
   "source": [
    "## Summations\n",
    "Addition is done between two arguments whereas summation happens over n elements."
   ]
  },
  {
   "cell_type": "code",
   "execution_count": 20,
   "id": "0b3ba8e6",
   "metadata": {},
   "outputs": [
    {
     "name": "stdout",
     "output_type": "stream",
     "text": [
      "12\n"
     ]
    }
   ],
   "source": [
    "arr1 = np.array([1, 2, 3])\n",
    "arr2 = np.array([1, 2, 3])\n",
    "\n",
    "newarr = np.sum([arr1, arr2])\n",
    "\n",
    "print(newarr)"
   ]
  },
  {
   "cell_type": "code",
   "execution_count": 21,
   "id": "8d6a9708",
   "metadata": {},
   "outputs": [
    {
     "name": "stdout",
     "output_type": "stream",
     "text": [
      "[6 6]\n"
     ]
    }
   ],
   "source": [
    "arr1 = np.array([1, 2, 3])\n",
    "arr2 = np.array([1, 2, 3])\n",
    "\n",
    "newarr = np.sum([arr1, arr2], axis=1)\n",
    "\n",
    "print(newarr)"
   ]
  },
  {
   "cell_type": "code",
   "execution_count": 22,
   "id": "7b128f57",
   "metadata": {},
   "outputs": [
    {
     "name": "stdout",
     "output_type": "stream",
     "text": [
      "[1 3 6]\n"
     ]
    }
   ],
   "source": [
    "arr = np.array([1, 2, 3])\n",
    "\n",
    "newarr = np.cumsum(arr)\n",
    "\n",
    "print(newarr)"
   ]
  },
  {
   "cell_type": "markdown",
   "id": "f595b33f",
   "metadata": {},
   "source": [
    "## Products"
   ]
  },
  {
   "cell_type": "code",
   "execution_count": 23,
   "id": "c17d4371",
   "metadata": {},
   "outputs": [
    {
     "name": "stdout",
     "output_type": "stream",
     "text": [
      "24\n"
     ]
    }
   ],
   "source": [
    "arr = np.array([1, 2, 3, 4])\n",
    "\n",
    "x = np.prod(arr)\n",
    "\n",
    "print(x)"
   ]
  },
  {
   "cell_type": "code",
   "execution_count": 24,
   "id": "6c2dae15",
   "metadata": {},
   "outputs": [
    {
     "name": "stdout",
     "output_type": "stream",
     "text": [
      "40320\n"
     ]
    }
   ],
   "source": [
    "arr1 = np.array([1, 2, 3, 4])\n",
    "arr2 = np.array([5, 6, 7, 8])\n",
    "\n",
    "x = np.prod([arr1, arr2])\n",
    "\n",
    "print(x)"
   ]
  },
  {
   "cell_type": "code",
   "execution_count": 25,
   "id": "338ea504",
   "metadata": {},
   "outputs": [
    {
     "name": "stdout",
     "output_type": "stream",
     "text": [
      "[  24 1680]\n"
     ]
    }
   ],
   "source": [
    "arr1 = np.array([1, 2, 3, 4])\n",
    "arr2 = np.array([5, 6, 7, 8])\n",
    "\n",
    "newarr = np.prod([arr1, arr2], axis=1)\n",
    "\n",
    "print(newarr)"
   ]
  },
  {
   "cell_type": "code",
   "execution_count": 26,
   "id": "5b40ab5b",
   "metadata": {},
   "outputs": [
    {
     "name": "stdout",
     "output_type": "stream",
     "text": [
      "[   5   30  210 1680]\n"
     ]
    }
   ],
   "source": [
    "arr = np.array([5, 6, 7, 8])\n",
    "\n",
    "newarr = np.cumprod(arr)\n",
    "\n",
    "print(newarr)"
   ]
  },
  {
   "cell_type": "markdown",
   "id": "e791b36e",
   "metadata": {},
   "source": [
    "## Differences\n",
    "A discrete difference means subtracting two successive elements."
   ]
  },
  {
   "cell_type": "code",
   "execution_count": 27,
   "id": "64e81104",
   "metadata": {},
   "outputs": [
    {
     "name": "stdout",
     "output_type": "stream",
     "text": [
      "[  5  10 -20]\n"
     ]
    }
   ],
   "source": [
    "arr = np.array([10, 15, 25, 5])\n",
    "\n",
    "newarr = np.diff(arr)\n",
    "\n",
    "print(newarr)"
   ]
  },
  {
   "cell_type": "code",
   "execution_count": 28,
   "id": "268f8805",
   "metadata": {},
   "outputs": [
    {
     "name": "stdout",
     "output_type": "stream",
     "text": [
      "[  5 -30]\n"
     ]
    }
   ],
   "source": [
    "arr = np.array([10, 15, 25, 5])\n",
    "\n",
    "newarr = np.diff(arr, n=2)\n",
    "\n",
    "print(newarr)"
   ]
  },
  {
   "cell_type": "markdown",
   "id": "fe3f110d",
   "metadata": {},
   "source": [
    "## Finding LCM (Lowest Common Multiple)"
   ]
  },
  {
   "cell_type": "code",
   "execution_count": 29,
   "id": "d4700174",
   "metadata": {},
   "outputs": [
    {
     "name": "stdout",
     "output_type": "stream",
     "text": [
      "12\n"
     ]
    }
   ],
   "source": [
    "num1 = 4\n",
    "num2 = 6\n",
    "\n",
    "x = np.lcm(num1, num2)\n",
    "\n",
    "print(x)"
   ]
  },
  {
   "cell_type": "code",
   "execution_count": 30,
   "id": "cf2af0dd",
   "metadata": {},
   "outputs": [
    {
     "name": "stdout",
     "output_type": "stream",
     "text": [
      "18\n"
     ]
    }
   ],
   "source": [
    "arr = np.array([3, 6, 9])\n",
    "\n",
    "x = np.lcm.reduce(arr)\n",
    "\n",
    "print(x)"
   ]
  },
  {
   "cell_type": "code",
   "execution_count": 31,
   "id": "f1cc58ac",
   "metadata": {},
   "outputs": [
    {
     "name": "stdout",
     "output_type": "stream",
     "text": [
      "2520\n"
     ]
    }
   ],
   "source": [
    "arr = np.arange(1, 11)\n",
    "\n",
    "x = np.lcm.reduce(arr)\n",
    "\n",
    "print(x)"
   ]
  },
  {
   "cell_type": "markdown",
   "id": "88b8f41a",
   "metadata": {},
   "source": [
    "## Finding GCD (Greatest Common Denominator)"
   ]
  },
  {
   "cell_type": "code",
   "execution_count": 32,
   "id": "53ae786f",
   "metadata": {},
   "outputs": [
    {
     "name": "stdout",
     "output_type": "stream",
     "text": [
      "3\n"
     ]
    }
   ],
   "source": [
    "num1 = 6\n",
    "num2 = 9\n",
    "\n",
    "x = np.gcd(num1, num2)\n",
    "\n",
    "print(x)"
   ]
  },
  {
   "cell_type": "code",
   "execution_count": 33,
   "id": "b9fb709b",
   "metadata": {},
   "outputs": [
    {
     "name": "stdout",
     "output_type": "stream",
     "text": [
      "4\n"
     ]
    }
   ],
   "source": [
    "arr = np.array([20, 8, 32, 36, 16])\n",
    "\n",
    "x = np.gcd.reduce(arr)\n",
    "\n",
    "print(x)"
   ]
  },
  {
   "cell_type": "markdown",
   "id": "e189bd40",
   "metadata": {},
   "source": [
    "## Trigonometric Functions"
   ]
  },
  {
   "cell_type": "code",
   "execution_count": 34,
   "id": "5f0f3f38",
   "metadata": {},
   "outputs": [
    {
     "name": "stdout",
     "output_type": "stream",
     "text": [
      "Sine of angles in the array:\n",
      "[0.00000000e+00 5.00000000e-01 7.07106781e-01 8.66025404e-01\n",
      " 1.00000000e+00 1.22464680e-16]\n",
      "\n",
      "Inverse Sine of sine values:\n",
      "[0.0000000e+00 3.0000000e+01 4.5000000e+01 6.0000000e+01 9.0000000e+01\n",
      " 7.0167093e-15]\n",
      "\n",
      "Sine hyperbolic of angles in the array:\n",
      "[ 0.          0.54785347  0.86867096  1.24936705  2.3012989  11.54873936]\n",
      "\n",
      "Inverse Sine hyperbolic:\n",
      "[  0.  30.  45.  60.  90. 180.]\n",
      "\n",
      "hypotenuse of right triangle is:\n",
      "5.0\n"
     ]
    }
   ],
   "source": [
    "# create an array of angles\n",
    "angles = np.array([0, 30, 45, 60, 90, 180])\n",
    "\n",
    "# conversion of degree into radians using deg2rad function\n",
    "radians = np.deg2rad(angles)\n",
    "\n",
    "# sine of angles\n",
    "print('Sine of angles in the array:')\n",
    "sine_value = np.sin(radians)\n",
    "print(sine_value)\n",
    "\n",
    "# inverse sine of sine values\n",
    "print('\\nInverse Sine of sine values:')\n",
    "print(np.rad2deg(np.arcsin(sine_value)))\n",
    "\n",
    "# hyperbolic sine of angles\n",
    "print('\\nSine hyperbolic of angles in the array:')\n",
    "sineh_value = np.sinh(radians)\n",
    "print(sineh_value)\n",
    "\n",
    "# inverse sine hyperbolic\n",
    "print('\\nInverse Sine hyperbolic:')\n",
    "print(np.rad2deg(np.arcsinh(sineh_value)))\n",
    "\n",
    "# hypot function demonstration\n",
    "base = 4\n",
    "height = 3\n",
    "print('\\nhypotenuse of right triangle is:')\n",
    "print(np.hypot(base, height))"
   ]
  },
  {
   "cell_type": "markdown",
   "id": "0443e724",
   "metadata": {},
   "source": [
    "## Complex number Function"
   ]
  },
  {
   "cell_type": "code",
   "execution_count": 35,
   "id": "3a3d75e0",
   "metadata": {},
   "outputs": [
    {
     "name": "stdout",
     "output_type": "stream",
     "text": [
      "Is Real :  [False  True] \n",
      "\n",
      "Is Real :  [ True  True] \n",
      "\n"
     ]
    }
   ],
   "source": [
    "print(\"Is Real : \", np.isreal([1+1j, 0j]), \"\\n\")\n",
    " \n",
    "print(\"Is Real : \", np.isreal([1, 0]), \"\\n\")"
   ]
  },
  {
   "cell_type": "code",
   "execution_count": 36,
   "id": "856f9f8e",
   "metadata": {},
   "outputs": [
    {
     "name": "stdout",
     "output_type": "stream",
     "text": [
      "Output conjugated complex number of  2+4j :  (2-4j)\n",
      "Output conjugated complex number of 5-8j:  (5+8j)\n"
     ]
    }
   ],
   "source": [
    "in_complx1 = 2+4j\n",
    "out_complx1 = np.conj(in_complx1)\n",
    "print (\"Output conjugated complex number of  2+4j : \", out_complx1)\n",
    " \n",
    "in_complx2 =5-8j\n",
    "out_complx2 = np.conj(in_complx2)\n",
    "print (\"Output conjugated complex number of 5-8j: \", out_complx2)"
   ]
  },
  {
   "cell_type": "markdown",
   "id": "6c7d0858",
   "metadata": {},
   "source": [
    "## Set Operations"
   ]
  },
  {
   "cell_type": "code",
   "execution_count": 37,
   "id": "c941d36f",
   "metadata": {},
   "outputs": [
    {
     "name": "stdout",
     "output_type": "stream",
     "text": [
      "[1 2 3 4 5 6 7]\n"
     ]
    }
   ],
   "source": [
    "arr = np.array([1, 1, 1, 2, 3, 4, 5, 5, 6, 7])\n",
    "\n",
    "x = np.unique(arr)\n",
    "\n",
    "print(x)"
   ]
  },
  {
   "cell_type": "code",
   "execution_count": 38,
   "id": "f5b42289",
   "metadata": {},
   "outputs": [
    {
     "name": "stdout",
     "output_type": "stream",
     "text": [
      "[1 2 3 4 5 6]\n"
     ]
    }
   ],
   "source": [
    "arr1 = np.array([1, 2, 3, 4])\n",
    "arr2 = np.array([3, 4, 5, 6])\n",
    "\n",
    "newarr = np.union1d(arr1, arr2)\n",
    "\n",
    "print(newarr)"
   ]
  },
  {
   "cell_type": "code",
   "execution_count": 39,
   "id": "84e1136e",
   "metadata": {},
   "outputs": [
    {
     "name": "stdout",
     "output_type": "stream",
     "text": [
      "[3 4]\n"
     ]
    }
   ],
   "source": [
    "arr1 = np.array([1, 2, 3, 4])\n",
    "arr2 = np.array([3, 4, 5, 6])\n",
    "\n",
    "newarr = np.intersect1d(arr1, arr2, assume_unique=True)\n",
    "\n",
    "print(newarr)"
   ]
  },
  {
   "cell_type": "code",
   "execution_count": 40,
   "id": "5a6776de",
   "metadata": {},
   "outputs": [
    {
     "name": "stdout",
     "output_type": "stream",
     "text": [
      "[1 2]\n"
     ]
    }
   ],
   "source": [
    "set1 = np.array([1, 2, 3, 4])\n",
    "set2 = np.array([3, 4, 5, 6])\n",
    "\n",
    "newarr = np.setdiff1d(set1, set2, assume_unique=True)\n",
    "\n",
    "print(newarr)"
   ]
  },
  {
   "cell_type": "code",
   "execution_count": 41,
   "id": "b6a5a578",
   "metadata": {},
   "outputs": [
    {
     "name": "stdout",
     "output_type": "stream",
     "text": [
      "[1 2 5 6]\n"
     ]
    }
   ],
   "source": [
    "set1 = np.array([1, 2, 3, 4])\n",
    "set2 = np.array([3, 4, 5, 6])\n",
    "\n",
    "newarr = np.setxor1d(set1, set2, assume_unique=True)\n",
    "\n",
    "print(newarr)"
   ]
  },
  {
   "cell_type": "markdown",
   "id": "b6b1aa64",
   "metadata": {},
   "source": [
    "## Statistical functions"
   ]
  },
  {
   "cell_type": "code",
   "execution_count": 42,
   "id": "23a94569",
   "metadata": {},
   "outputs": [
    {
     "name": "stdout",
     "output_type": "stream",
     "text": [
      "Minimum and maximum weight of the students: \n",
      "45.0 73.25\n",
      "\n",
      "Range of the weight of the students: \n",
      "28.25\n",
      "\n",
      "Weight below which 70 % student fall: \n",
      "55.317\n",
      "\n",
      "Mean weight of the students: \n",
      "54.3225\n",
      "\n",
      "Median weight of the students: \n",
      "51.6\n",
      "\n",
      "Standard deviation of weight of the students: \n",
      "8.052773978574091\n",
      "\n",
      "Variance of weight of the students: \n",
      "64.84716875\n",
      "\n",
      "Average weight of the students: \n",
      "54.3225\n"
     ]
    }
   ],
   "source": [
    "# construct a weight array\n",
    "weight = np.array([50.7, 52.5, 50, 58, 55.63, 73.25, 49.5, 45])\n",
    "\n",
    "# minimum and maximum\n",
    "print('Minimum and maximum weight of the students: ')\n",
    "print(np.amin(weight), np.amax(weight))\n",
    "\n",
    "# range of weight i.e. max weight-min weight\n",
    "print('\\nRange of the weight of the students: ')\n",
    "print(np.ptp(weight))\n",
    "\n",
    "# percentile\n",
    "print('\\nWeight below which 70 % student fall: ')\n",
    "print(np.percentile(weight, 70))\n",
    "\n",
    "# mean\n",
    "print('\\nMean weight of the students: ')\n",
    "print(np.mean(weight))\n",
    "\n",
    "# median\n",
    "print('\\nMedian weight of the students: ')\n",
    "print(np.median(weight))\n",
    "\n",
    "# standard deviation\n",
    "print('\\nStandard deviation of weight of the students: ')\n",
    "print(np.std(weight))\n",
    "\n",
    "# variance\n",
    "print('\\nVariance of weight of the students: ')\n",
    "print(np.var(weight))\n",
    "\n",
    "# average\n",
    "print('\\nAverage weight of the students: ')\n",
    "print(np.average(weight))"
   ]
  },
  {
   "cell_type": "markdown",
   "id": "7e82a910",
   "metadata": {},
   "source": [
    "## Special functions"
   ]
  },
  {
   "cell_type": "code",
   "execution_count": 43,
   "id": "a3cfbdf3",
   "metadata": {},
   "outputs": [
    {
     "name": "stdout",
     "output_type": "stream",
     "text": [
      "cbrt Value of arr1 : \n",
      " [  1.  30.   4. -10.]\n",
      "\n",
      "cbrt Value of arr2 :  [10.0793684 -5.0396842]\n"
     ]
    }
   ],
   "source": [
    "arr1 = [1, 27000, 64, -1000]\n",
    "print (\"cbrt Value of arr1 : \\n\", np.cbrt(arr1))\n",
    "  \n",
    "arr2 = [1024 ,-128]\n",
    "print (\"\\ncbrt Value of arr2 : \", np.cbrt(arr2))"
   ]
  },
  {
   "cell_type": "code",
   "execution_count": 44,
   "id": "fc1aac6b",
   "metadata": {},
   "outputs": [
    {
     "name": "stdout",
     "output_type": "stream",
     "text": [
      "Input array :  [1, 2, 3, 4, 5, 6, 7, 8]\n",
      "Output array :  [2 2 3 4 5 6 6 6]\n"
     ]
    }
   ],
   "source": [
    "in_array = [1, 2, 3, 4, 5, 6, 7, 8 ]\n",
    "print (\"Input array : \", in_array)\n",
    " \n",
    "out_array = np.clip(in_array, a_min = 2, a_max = 6)\n",
    "print (\"Output array : \", out_array)"
   ]
  },
  {
   "cell_type": "code",
   "execution_count": null,
   "id": "de603f63",
   "metadata": {},
   "outputs": [],
   "source": []
  }
 ],
 "metadata": {
  "kernelspec": {
   "display_name": "Python 3 (ipykernel)",
   "language": "python",
   "name": "python3"
  },
  "language_info": {
   "codemirror_mode": {
    "name": "ipython",
    "version": 3
   },
   "file_extension": ".py",
   "mimetype": "text/x-python",
   "name": "python",
   "nbconvert_exporter": "python",
   "pygments_lexer": "ipython3",
   "version": "3.9.6"
  }
 },
 "nbformat": 4,
 "nbformat_minor": 5
}
