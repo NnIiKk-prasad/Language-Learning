{
 "cells": [
  {
   "cell_type": "code",
   "execution_count": 1,
   "id": "aa100588",
   "metadata": {},
   "outputs": [],
   "source": [
    "from numpy import random"
   ]
  },
  {
   "cell_type": "markdown",
   "id": "b36c185a",
   "metadata": {},
   "source": [
    "## Generate Random Number"
   ]
  },
  {
   "cell_type": "code",
   "execution_count": 2,
   "id": "064e1481",
   "metadata": {},
   "outputs": [
    {
     "name": "stdout",
     "output_type": "stream",
     "text": [
      "72\n"
     ]
    }
   ],
   "source": [
    "x = random.randint(100)\n",
    "\n",
    "print(x)"
   ]
  },
  {
   "cell_type": "markdown",
   "id": "3c9f723d",
   "metadata": {},
   "source": [
    "## Generate Random Float"
   ]
  },
  {
   "cell_type": "code",
   "execution_count": 3,
   "id": "a56f6493",
   "metadata": {},
   "outputs": [
    {
     "name": "stdout",
     "output_type": "stream",
     "text": [
      "0.8864042268094877\n"
     ]
    }
   ],
   "source": [
    "x = random.rand()\n",
    "\n",
    "print(x)"
   ]
  },
  {
   "cell_type": "code",
   "execution_count": 4,
   "id": "440ffc19",
   "metadata": {},
   "outputs": [
    {
     "name": "stdout",
     "output_type": "stream",
     "text": [
      "Output random float value :  0.3428497417388606\n"
     ]
    }
   ],
   "source": [
    "out_val = random.random_sample()\n",
    "print (\"Output random float value : \", out_val) "
   ]
  },
  {
   "cell_type": "code",
   "execution_count": 5,
   "id": "fe49769a",
   "metadata": {},
   "outputs": [
    {
     "name": "stdout",
     "output_type": "stream",
     "text": [
      "Output random float value :  0.6634973100680018\n"
     ]
    }
   ],
   "source": [
    "out_val = random.ranf()\n",
    "print (\"Output random float value : \", out_val)"
   ]
  },
  {
   "cell_type": "markdown",
   "id": "b0729c59",
   "metadata": {},
   "source": [
    "## Generate Random Array"
   ]
  },
  {
   "cell_type": "code",
   "execution_count": 6,
   "id": "4696f6f2",
   "metadata": {},
   "outputs": [
    {
     "name": "stdout",
     "output_type": "stream",
     "text": [
      "[60 46 34 86 58]\n"
     ]
    }
   ],
   "source": [
    "x=random.randint(100, size=(5))\n",
    "\n",
    "print(x)"
   ]
  },
  {
   "cell_type": "code",
   "execution_count": 7,
   "id": "d1bfd86d",
   "metadata": {},
   "outputs": [
    {
     "name": "stdout",
     "output_type": "stream",
     "text": [
      "Output 1D Array filled with random integers :  [1 1 0 0 0]\n"
     ]
    }
   ],
   "source": [
    "out_arr = random.randint(low = 0, high = 3, size = 5)\n",
    "print (\"Output 1D Array filled with random integers : \", out_arr) "
   ]
  },
  {
   "cell_type": "code",
   "execution_count": 8,
   "id": "0fd851f8",
   "metadata": {},
   "outputs": [
    {
     "name": "stdout",
     "output_type": "stream",
     "text": [
      "[[38  3 42 77 61]\n",
      " [67 16 79 16 19]\n",
      " [80 72 30 21 70]]\n"
     ]
    }
   ],
   "source": [
    "x = random.randint(100, size=(3, 5))\n",
    "\n",
    "print(x)"
   ]
  },
  {
   "cell_type": "code",
   "execution_count": 9,
   "id": "eaae1ff3",
   "metadata": {},
   "outputs": [
    {
     "name": "stdout",
     "output_type": "stream",
     "text": [
      "Output 2D Array filled with random integers :\n",
      " [[0 1 2]\n",
      " [0 1 3]]\n"
     ]
    }
   ],
   "source": [
    "out_arr = random.randint(low = 4, size =(2, 3))\n",
    "print (\"Output 2D Array filled with random integers :\\n\", out_arr) "
   ]
  },
  {
   "cell_type": "code",
   "execution_count": 10,
   "id": "38c9830e",
   "metadata": {},
   "outputs": [
    {
     "name": "stdout",
     "output_type": "stream",
     "text": [
      "Output 3D Array filled with random integers :\n",
      " [[[2 5 5 2]\n",
      "  [9 7 3 7]\n",
      "  [3 5 2 6]]\n",
      "\n",
      " [[2 4 6 8]\n",
      "  [2 6 8 2]\n",
      "  [3 6 3 7]]]\n"
     ]
    }
   ],
   "source": [
    "out_arr = random.randint(2, 10, (2, 3, 4))\n",
    "print (\"Output 3D Array filled with random integers :\\n\", out_arr) "
   ]
  },
  {
   "cell_type": "code",
   "execution_count": 11,
   "id": "0c89fe74",
   "metadata": {},
   "outputs": [
    {
     "name": "stdout",
     "output_type": "stream",
     "text": [
      "[0.56626707 0.80797591 0.2393135  0.7748306  0.13390687]\n"
     ]
    }
   ],
   "source": [
    "x = random.rand(5)\n",
    "\n",
    "print(x)"
   ]
  },
  {
   "cell_type": "code",
   "execution_count": 12,
   "id": "4414c1e1",
   "metadata": {},
   "outputs": [
    {
     "name": "stdout",
     "output_type": "stream",
     "text": [
      "[[0.48591899 0.12245356 0.49043478 0.18122636 0.79242375]\n",
      " [0.37626187 0.83060112 0.07549712 0.71308729 0.46901696]\n",
      " [0.80264731 0.02834045 0.67316114 0.61295262 0.2156503 ]]\n"
     ]
    }
   ],
   "source": [
    "x = random.rand(3, 5)\n",
    "\n",
    "print(x)"
   ]
  },
  {
   "cell_type": "code",
   "execution_count": 13,
   "id": "cd49752e",
   "metadata": {},
   "outputs": [
    {
     "name": "stdout",
     "output_type": "stream",
     "text": [
      "Output 2D Array filled with random floats :  [[0.12032153 0.97238984 0.41175643]]\n"
     ]
    }
   ],
   "source": [
    "out_arr = random.random_sample(size =(1, 3))\n",
    "print (\"Output 2D Array filled with random floats : \", out_arr)"
   ]
  },
  {
   "cell_type": "code",
   "execution_count": 14,
   "id": "a1a95fa2",
   "metadata": {},
   "outputs": [
    {
     "name": "stdout",
     "output_type": "stream",
     "text": [
      "Output 3D Array filled with random floats :\n",
      " [[[0.08902181]\n",
      "  [0.8523623 ]]\n",
      "\n",
      " [[0.87812637]\n",
      "  [0.24805779]]\n",
      "\n",
      " [[0.56724427]\n",
      "  [0.50359232]]]\n"
     ]
    }
   ],
   "source": [
    "out_arr = random.random_sample((3, 2, 1))\n",
    "print (\"Output 3D Array filled with random floats :\\n\", out_arr)"
   ]
  },
  {
   "cell_type": "code",
   "execution_count": 15,
   "id": "93dcaa78",
   "metadata": {},
   "outputs": [
    {
     "name": "stdout",
     "output_type": "stream",
     "text": [
      "Output 2D Array filled with random floats :\n",
      " [[0.85338229]\n",
      " [0.84522152]]\n"
     ]
    }
   ],
   "source": [
    "out_arr = random.ranf(size =(2, 1))\n",
    "print (\"Output 2D Array filled with random floats :\\n\", out_arr)"
   ]
  },
  {
   "cell_type": "code",
   "execution_count": 16,
   "id": "0c75e5e2",
   "metadata": {},
   "outputs": [
    {
     "name": "stdout",
     "output_type": "stream",
     "text": [
      "Output 3D Array filled with random floats :\n",
      " [[[0.53470713 0.10986793]\n",
      "  [0.40308941 0.96457214]\n",
      "  [0.52157974 0.38210933]]\n",
      "\n",
      " [[0.7535996  0.30249772]\n",
      "  [0.30073639 0.95502557]\n",
      "  [0.44072798 0.47617746]]\n",
      "\n",
      " [[0.12477983 0.52373613]\n",
      "  [0.11870362 0.96940585]\n",
      "  [0.73163262 0.25261296]]]\n"
     ]
    }
   ],
   "source": [
    "out_arr = random.ranf((3, 3, 2))\n",
    "print (\"Output 3D Array filled with random floats :\\n\", out_arr)"
   ]
  },
  {
   "cell_type": "markdown",
   "id": "22fc40d6",
   "metadata": {},
   "source": [
    "## Generate Random Number From Array"
   ]
  },
  {
   "cell_type": "code",
   "execution_count": 17,
   "id": "f9d09138",
   "metadata": {},
   "outputs": [
    {
     "name": "stdout",
     "output_type": "stream",
     "text": [
      "7\n"
     ]
    }
   ],
   "source": [
    "x = random.choice([3, 5, 7, 9])\n",
    "\n",
    "print(x)"
   ]
  },
  {
   "cell_type": "code",
   "execution_count": 18,
   "id": "0f843664",
   "metadata": {},
   "outputs": [
    {
     "name": "stdout",
     "output_type": "stream",
     "text": [
      "[[7 5 5 7 9]\n",
      " [3 9 7 9 7]\n",
      " [3 9 5 7 3]]\n"
     ]
    }
   ],
   "source": [
    "x = random.choice([3, 5, 7, 9], size=(3, 5))\n",
    "\n",
    "print(x)"
   ]
  },
  {
   "cell_type": "code",
   "execution_count": null,
   "id": "2b26ca25",
   "metadata": {},
   "outputs": [],
   "source": []
  }
 ],
 "metadata": {
  "kernelspec": {
   "display_name": "Python 3 (ipykernel)",
   "language": "python",
   "name": "python3"
  },
  "language_info": {
   "codemirror_mode": {
    "name": "ipython",
    "version": 3
   },
   "file_extension": ".py",
   "mimetype": "text/x-python",
   "name": "python",
   "nbconvert_exporter": "python",
   "pygments_lexer": "ipython3",
   "version": "3.9.6"
  }
 },
 "nbformat": 4,
 "nbformat_minor": 5
}
