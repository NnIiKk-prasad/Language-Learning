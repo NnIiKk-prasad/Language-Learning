{
 "cells": [
  {
   "cell_type": "markdown",
   "id": "6dd7bcc4",
   "metadata": {},
   "source": [
    "# NumPy Array Slicing"
   ]
  },
  {
   "cell_type": "code",
   "execution_count": 1,
   "id": "c34c2521",
   "metadata": {},
   "outputs": [],
   "source": [
    "import numpy as np"
   ]
  },
  {
   "cell_type": "code",
   "execution_count": 2,
   "id": "4a80740a",
   "metadata": {},
   "outputs": [
    {
     "data": {
      "text/plain": [
       "array([1, 2, 3, 4, 5, 6, 7])"
      ]
     },
     "execution_count": 2,
     "metadata": {},
     "output_type": "execute_result"
    }
   ],
   "source": [
    "arr = np.array([1,2,3,4,5,6,7])\n",
    "arr"
   ]
  },
  {
   "cell_type": "code",
   "execution_count": 3,
   "id": "8974412e",
   "metadata": {},
   "outputs": [
    {
     "data": {
      "text/plain": [
       "array([2, 3, 4, 5])"
      ]
     },
     "execution_count": 3,
     "metadata": {},
     "output_type": "execute_result"
    }
   ],
   "source": [
    "arr[1:5]"
   ]
  },
  {
   "cell_type": "code",
   "execution_count": 4,
   "id": "5d14c44c",
   "metadata": {},
   "outputs": [
    {
     "data": {
      "text/plain": [
       "array([5, 6, 7])"
      ]
     },
     "execution_count": 4,
     "metadata": {},
     "output_type": "execute_result"
    }
   ],
   "source": [
    "arr[4:]"
   ]
  },
  {
   "cell_type": "code",
   "execution_count": 5,
   "id": "b9c503bd",
   "metadata": {},
   "outputs": [
    {
     "data": {
      "text/plain": [
       "array([1, 2, 3, 4])"
      ]
     },
     "execution_count": 5,
     "metadata": {},
     "output_type": "execute_result"
    }
   ],
   "source": [
    "arr[:4]"
   ]
  },
  {
   "cell_type": "markdown",
   "id": "2f2eae3c",
   "metadata": {},
   "source": [
    "### Negative Slicing"
   ]
  },
  {
   "cell_type": "code",
   "execution_count": 6,
   "id": "94141def",
   "metadata": {},
   "outputs": [
    {
     "data": {
      "text/plain": [
       "array([1, 2, 3, 4, 5, 6, 7])"
      ]
     },
     "execution_count": 6,
     "metadata": {},
     "output_type": "execute_result"
    }
   ],
   "source": [
    "arr"
   ]
  },
  {
   "cell_type": "code",
   "execution_count": 7,
   "id": "59214d74",
   "metadata": {},
   "outputs": [
    {
     "data": {
      "text/plain": [
       "array([5, 6])"
      ]
     },
     "execution_count": 7,
     "metadata": {},
     "output_type": "execute_result"
    }
   ],
   "source": [
    "arr[-3:-1]"
   ]
  },
  {
   "cell_type": "markdown",
   "id": "6e58e7c8",
   "metadata": {},
   "source": [
    "### Step"
   ]
  },
  {
   "cell_type": "code",
   "execution_count": 8,
   "id": "cb787667",
   "metadata": {},
   "outputs": [
    {
     "data": {
      "text/plain": [
       "array([1, 2, 3, 4, 5, 6, 7])"
      ]
     },
     "execution_count": 8,
     "metadata": {},
     "output_type": "execute_result"
    }
   ],
   "source": [
    "arr"
   ]
  },
  {
   "cell_type": "code",
   "execution_count": 9,
   "id": "2c81d988",
   "metadata": {},
   "outputs": [
    {
     "data": {
      "text/plain": [
       "array([2, 4])"
      ]
     },
     "execution_count": 9,
     "metadata": {},
     "output_type": "execute_result"
    }
   ],
   "source": [
    "arr[1:5:2]"
   ]
  },
  {
   "cell_type": "code",
   "execution_count": 10,
   "id": "237cc93b",
   "metadata": {},
   "outputs": [
    {
     "data": {
      "text/plain": [
       "array([1, 3, 5, 7])"
      ]
     },
     "execution_count": 10,
     "metadata": {},
     "output_type": "execute_result"
    }
   ],
   "source": [
    "arr[::2]"
   ]
  },
  {
   "cell_type": "markdown",
   "id": "5b5f78b4",
   "metadata": {},
   "source": [
    "### Slicing 2-D Arrays"
   ]
  },
  {
   "cell_type": "code",
   "execution_count": 11,
   "id": "e592aa15",
   "metadata": {},
   "outputs": [
    {
     "data": {
      "text/plain": [
       "array([[ 1,  2,  3,  4,  5],\n",
       "       [ 6,  7,  8,  9, 10]])"
      ]
     },
     "execution_count": 11,
     "metadata": {},
     "output_type": "execute_result"
    }
   ],
   "source": [
    "arr1 = np.array([[1, 2, 3, 4, 5], [6, 7, 8, 9, 10]])\n",
    "arr1"
   ]
  },
  {
   "cell_type": "code",
   "execution_count": 12,
   "id": "32c6f654",
   "metadata": {},
   "outputs": [
    {
     "data": {
      "text/plain": [
       "array([ 7,  8,  9, 10])"
      ]
     },
     "execution_count": 12,
     "metadata": {},
     "output_type": "execute_result"
    }
   ],
   "source": [
    "arr1[1, 1:5]"
   ]
  },
  {
   "cell_type": "code",
   "execution_count": 13,
   "id": "ad0e393c",
   "metadata": {},
   "outputs": [
    {
     "data": {
      "text/plain": [
       "array([3, 8])"
      ]
     },
     "execution_count": 13,
     "metadata": {},
     "output_type": "execute_result"
    }
   ],
   "source": [
    "arr1[0:2, 2]"
   ]
  },
  {
   "cell_type": "code",
   "execution_count": 14,
   "id": "df8d5974",
   "metadata": {},
   "outputs": [
    {
     "data": {
      "text/plain": [
       "array([[2, 3, 4],\n",
       "       [7, 8, 9]])"
      ]
     },
     "execution_count": 14,
     "metadata": {},
     "output_type": "execute_result"
    }
   ],
   "source": [
    "arr1[0:2, 1:4]"
   ]
  },
  {
   "cell_type": "markdown",
   "id": "c48e09f7",
   "metadata": {},
   "source": [
    "#### Ellipsis can also be used along with basic slicing. Ellipsis (…) is the number of : objects needed to make a selection tuple of the same length as the dimensions of the array."
   ]
  },
  {
   "cell_type": "code",
   "execution_count": 15,
   "id": "e3578920",
   "metadata": {},
   "outputs": [
    {
     "name": "stdout",
     "output_type": "stream",
     "text": [
      "[[ 2  5]\n",
      " [ 8 11]]\n"
     ]
    }
   ],
   "source": [
    "arr = np.array([[[1, 2, 3],[4, 5, 6]],\n",
    "                [[7, 8, 9],[10, 11, 12]]])\n",
    " \n",
    "print(arr[...,1]) # Equivalent to arr[: ,: ,1 ]"
   ]
  },
  {
   "cell_type": "code",
   "execution_count": null,
   "id": "57ed82af",
   "metadata": {},
   "outputs": [],
   "source": []
  }
 ],
 "metadata": {
  "kernelspec": {
   "display_name": "Python 3 (ipykernel)",
   "language": "python",
   "name": "python3"
  },
  "language_info": {
   "codemirror_mode": {
    "name": "ipython",
    "version": 3
   },
   "file_extension": ".py",
   "mimetype": "text/x-python",
   "name": "python",
   "nbconvert_exporter": "python",
   "pygments_lexer": "ipython3",
   "version": "3.9.6"
  }
 },
 "nbformat": 4,
 "nbformat_minor": 5
}
