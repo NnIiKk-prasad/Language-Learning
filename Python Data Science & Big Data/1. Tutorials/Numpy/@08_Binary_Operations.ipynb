{
 "cells": [
  {
   "cell_type": "code",
   "execution_count": 1,
   "id": "33f4e758",
   "metadata": {},
   "outputs": [],
   "source": [
    "import numpy as np"
   ]
  },
  {
   "cell_type": "markdown",
   "id": "d512d7a1",
   "metadata": {},
   "source": [
    "### bitwise_and() function"
   ]
  },
  {
   "cell_type": "code",
   "execution_count": 2,
   "id": "e61043aa",
   "metadata": {},
   "outputs": [
    {
     "name": "stdout",
     "output_type": "stream",
     "text": [
      "bitwise_and of 10 and 11 :  10\n"
     ]
    }
   ],
   "source": [
    "num1 = 10\n",
    "num2 = 11\n",
    "\n",
    "out_num = np.bitwise_and(num1, num2)\n",
    "\n",
    "print(\"bitwise_and of 10 and 11 : \", out_num)"
   ]
  },
  {
   "cell_type": "code",
   "execution_count": 17,
   "id": "2d557104",
   "metadata": {},
   "outputs": [
    {
     "name": "stdout",
     "output_type": "stream",
     "text": [
      "Output array after bitwise_and:  [  2   0 113]\n"
     ]
    }
   ],
   "source": [
    "arr1 = [2, 8, 125]\n",
    "arr2 = [3, 3, 115]\n",
    "\n",
    "out_arr = np.bitwise_and(arr1, arr2) \n",
    "print(\"Output array after bitwise_and: \", out_arr)"
   ]
  },
  {
   "cell_type": "markdown",
   "id": "9b03be33",
   "metadata": {},
   "source": [
    "### bitwise_or() function"
   ]
  },
  {
   "cell_type": "code",
   "execution_count": 8,
   "id": "cb93fda0",
   "metadata": {},
   "outputs": [
    {
     "name": "stdout",
     "output_type": "stream",
     "text": [
      "bitwise_or of 10 and 11 :  11\n"
     ]
    }
   ],
   "source": [
    "num1 = 10\n",
    "num2 = 11\n",
    "\n",
    "out_num = np.bitwise_or(num1, num2)\n",
    "\n",
    "print(\"bitwise_or of 10 and 11 : \", out_num)"
   ]
  },
  {
   "cell_type": "code",
   "execution_count": 16,
   "id": "ae67b634",
   "metadata": {},
   "outputs": [
    {
     "name": "stdout",
     "output_type": "stream",
     "text": [
      "Output array after bitwise_or:  [  3  11 127]\n"
     ]
    }
   ],
   "source": [
    "arr1 = [2, 8, 125]\n",
    "arr2 = [3, 3, 115]\n",
    "\n",
    "out_arr = np.bitwise_or(arr1, arr2) \n",
    "print(\"Output array after bitwise_or: \", out_arr)"
   ]
  },
  {
   "cell_type": "markdown",
   "id": "b43cc32c",
   "metadata": {},
   "source": [
    "### bitwise_xor() function"
   ]
  },
  {
   "cell_type": "code",
   "execution_count": 10,
   "id": "ad9ff4be",
   "metadata": {},
   "outputs": [
    {
     "name": "stdout",
     "output_type": "stream",
     "text": [
      "bitwise_xor of 10 and 11 :  1\n"
     ]
    }
   ],
   "source": [
    "num1 = 10\n",
    "num2 = 11\n",
    "\n",
    "out_num = np.bitwise_xor(num1, num2)\n",
    "\n",
    "print(\"bitwise_xor of 10 and 11 : \", out_num)"
   ]
  },
  {
   "cell_type": "code",
   "execution_count": 15,
   "id": "12880726",
   "metadata": {},
   "outputs": [
    {
     "name": "stdout",
     "output_type": "stream",
     "text": [
      "Output array after bitwise_xor:  [ 1 11 14]\n"
     ]
    }
   ],
   "source": [
    "arr1 = [2, 8, 125]\n",
    "arr2 = [3, 3, 115]\n",
    "\n",
    "out_arr = np.bitwise_xor(arr1, arr2) \n",
    "print(\"Output array after bitwise_xor: \", out_arr)"
   ]
  },
  {
   "cell_type": "markdown",
   "id": "b64df27b",
   "metadata": {},
   "source": [
    "### invert() function"
   ]
  },
  {
   "cell_type": "code",
   "execution_count": 14,
   "id": "179915d3",
   "metadata": {},
   "outputs": [
    {
     "name": "stdout",
     "output_type": "stream",
     "text": [
      "inversion of 10 :  -11\n"
     ]
    }
   ],
   "source": [
    "num = 10\n",
    "\n",
    "out_num = np.invert(num) \n",
    "print(\"inversion of 10 : \", out_num) "
   ]
  },
  {
   "cell_type": "code",
   "execution_count": 13,
   "id": "7f876808",
   "metadata": {},
   "outputs": [
    {
     "name": "stdout",
     "output_type": "stream",
     "text": [
      "Output array after inversion:  [ -3  -1 -26]\n"
     ]
    }
   ],
   "source": [
    "arr = [2, 0, 25]\n",
    "   \n",
    "out_arr = np.invert(arr) \n",
    "print(\"Output array after inversion: \", out_arr)"
   ]
  },
  {
   "cell_type": "markdown",
   "id": "31a03c35",
   "metadata": {},
   "source": [
    "### left_shift() function"
   ]
  },
  {
   "cell_type": "code",
   "execution_count": 18,
   "id": "75a80285",
   "metadata": {},
   "outputs": [
    {
     "name": "stdout",
     "output_type": "stream",
     "text": [
      "Input  number :  5\n",
      "Number of bit shift :  2\n",
      "After left shifting 2 bit  :  20\n"
     ]
    }
   ],
   "source": [
    "in_num = 5\n",
    "bit_shift = 2\n",
    " \n",
    "print (\"Input  number : \", in_num)\n",
    "print (\"Number of bit shift : \", bit_shift ) \n",
    "   \n",
    "out_num = np.left_shift(in_num, bit_shift) \n",
    "print (\"After left shifting 2 bit  : \", out_num) "
   ]
  },
  {
   "cell_type": "code",
   "execution_count": 20,
   "id": "a1c3202b",
   "metadata": {},
   "outputs": [
    {
     "name": "stdout",
     "output_type": "stream",
     "text": [
      "Input array :  [2, 8, 15]\n",
      "Number of bit shift :  [3, 4, 5]\n",
      "Output array after left shifting:  [ 16 128 480]\n"
     ]
    }
   ],
   "source": [
    "in_arr = [2, 8, 15]\n",
    "bit_shift =[3, 4, 5]\n",
    "  \n",
    "print (\"Input array : \", in_arr) \n",
    "print (\"Number of bit shift : \", bit_shift)\n",
    "   \n",
    "out_arr = np.left_shift(in_arr, bit_shift) \n",
    "print (\"Output array after left shifting: \", out_arr) "
   ]
  },
  {
   "cell_type": "markdown",
   "id": "1fadd353",
   "metadata": {},
   "source": [
    "### right_shift() function"
   ]
  },
  {
   "cell_type": "code",
   "execution_count": 22,
   "id": "a5b7ca7f",
   "metadata": {},
   "outputs": [
    {
     "name": "stdout",
     "output_type": "stream",
     "text": [
      "Input  number :  20\n",
      "Number of bit shift :  2\n",
      "After right shifting 2 bit  :  5\n"
     ]
    }
   ],
   "source": [
    "in_num = 20\n",
    "bit_shift = 2\n",
    "\n",
    "print (\"Input  number : \", in_num)\n",
    "print (\"Number of bit shift : \", bit_shift )\n",
    "\n",
    "out_num = np.right_shift(in_num, bit_shift)\n",
    "\n",
    "print (\"After right shifting 2 bit  : \", out_num)"
   ]
  },
  {
   "cell_type": "code",
   "execution_count": 23,
   "id": "51c09099",
   "metadata": {},
   "outputs": [
    {
     "name": "stdout",
     "output_type": "stream",
     "text": [
      "Input array :  [24, 48, 16]\n",
      "Number of bit shift :  [3, 4, 2]\n",
      "Output array after right shifting:  [3 3 4]\n"
     ]
    }
   ],
   "source": [
    "in_arr = [24, 48, 16]\n",
    "bit_shift =[3, 4, 2]\n",
    "\n",
    "print (\"Input array : \", in_arr)\n",
    "print (\"Number of bit shift : \", bit_shift)\n",
    "\n",
    "out_arr = np.right_shift(in_arr, bit_shift)\n",
    "print (\"Output array after right shifting: \", out_arr)"
   ]
  },
  {
   "cell_type": "markdown",
   "id": "0c2e75ef",
   "metadata": {},
   "source": [
    "### binary_repr() function"
   ]
  },
  {
   "cell_type": "code",
   "execution_count": 24,
   "id": "c7fcebaf",
   "metadata": {},
   "outputs": [
    {
     "name": "stdout",
     "output_type": "stream",
     "text": [
      "Input  number :  10\n",
      "binary representation of 10 :  1010\n"
     ]
    }
   ],
   "source": [
    "in_num = 10\n",
    "\n",
    "print (\"Input  number : \", in_num)\n",
    "\n",
    "out_num = np.binary_repr(in_num)\n",
    "print (\"binary representation of 10 : \", out_num)"
   ]
  },
  {
   "cell_type": "code",
   "execution_count": 28,
   "id": "70633893",
   "metadata": {},
   "outputs": [
    {
     "name": "stdout",
     "output_type": "stream",
     "text": [
      "Input array :  [5, -8]\n",
      "Without using width parameter :  101 -1000\n",
      "Using width parameter :  11000 -1000\n"
     ]
    }
   ],
   "source": [
    "in_arr = [5, -8 ]\n",
    "print (\"Input array : \", in_arr) \n",
    "\n",
    "out_num1 = np.binary_repr(in_arr[0])\n",
    "out_num2 = np.binary_repr(in_arr[1])\n",
    "print (\"Without using width parameter : \", out_num1, out_num2)\n",
    "\n",
    "out_num1 = np.binary_repr(in_arr[0], width = 5)\n",
    "out_num1 = np.binary_repr(in_arr[1], width = 5)\n",
    "print (\"Using width parameter : \", out_num1, out_num2)"
   ]
  },
  {
   "cell_type": "markdown",
   "id": "498ff4c2",
   "metadata": {},
   "source": [
    "### packbits() function"
   ]
  },
  {
   "cell_type": "code",
   "execution_count": 29,
   "id": "2c5f2506",
   "metadata": {},
   "outputs": [
    {
     "name": "stdout",
     "output_type": "stream",
     "text": [
      "[[[160]\n",
      "  [ 64]]\n",
      "\n",
      " [[192]\n",
      "  [ 32]]]\n"
     ]
    }
   ],
   "source": [
    "a = np.array([[[1,0,1],\n",
    "             [0,1,0]],\n",
    "             [[1,1,0],\n",
    "             [0,0,1]]])\n",
    "\n",
    "b = np.packbits(a, axis=-1)\n",
    " \n",
    "print(b)"
   ]
  },
  {
   "cell_type": "markdown",
   "id": "18e531cd",
   "metadata": {},
   "source": [
    "### unpackbits() function"
   ]
  },
  {
   "cell_type": "code",
   "execution_count": 30,
   "id": "bf404871",
   "metadata": {},
   "outputs": [
    {
     "name": "stdout",
     "output_type": "stream",
     "text": [
      "[[0 0 0 0 0 0 1 0]\n",
      " [0 0 0 0 0 1 1 1]\n",
      " [0 0 0 1 0 1 1 1]]\n"
     ]
    }
   ],
   "source": [
    "a = np.array([[2], [7], [23]], dtype=np.uint8)\n",
    "\n",
    "b = np.unpackbits(a, axis = 1)\n",
    " \n",
    "print(b)"
   ]
  },
  {
   "cell_type": "code",
   "execution_count": null,
   "id": "89a5381e",
   "metadata": {},
   "outputs": [],
   "source": []
  }
 ],
 "metadata": {
  "kernelspec": {
   "display_name": "Python 3 (ipykernel)",
   "language": "python",
   "name": "python3"
  },
  "language_info": {
   "codemirror_mode": {
    "name": "ipython",
    "version": 3
   },
   "file_extension": ".py",
   "mimetype": "text/x-python",
   "name": "python",
   "nbconvert_exporter": "python",
   "pygments_lexer": "ipython3",
   "version": "3.9.6"
  }
 },
 "nbformat": 4,
 "nbformat_minor": 5
}
