{
 "cells": [
  {
   "cell_type": "code",
   "execution_count": 1,
   "id": "6ec621de",
   "metadata": {},
   "outputs": [],
   "source": [
    "import numpy as np"
   ]
  },
  {
   "cell_type": "markdown",
   "id": "52e03498",
   "metadata": {},
   "source": [
    "# Sorting"
   ]
  },
  {
   "cell_type": "markdown",
   "id": "a88261a6",
   "metadata": {},
   "source": [
    "### numpy.sort() : This function returns a sorted copy of an array."
   ]
  },
  {
   "cell_type": "code",
   "execution_count": 2,
   "id": "88b215ec",
   "metadata": {},
   "outputs": [
    {
     "name": "stdout",
     "output_type": "stream",
     "text": [
      "[0 1 2 3]\n"
     ]
    }
   ],
   "source": [
    "arr = np.array([3, 2, 0, 1])\n",
    "\n",
    "print(np.sort(arr))"
   ]
  },
  {
   "cell_type": "code",
   "execution_count": 3,
   "id": "180e9eb1",
   "metadata": {},
   "outputs": [
    {
     "name": "stdout",
     "output_type": "stream",
     "text": [
      "['apple' 'banana' 'cherry']\n"
     ]
    }
   ],
   "source": [
    "arr = np.array(['banana', 'cherry', 'apple'])\n",
    "\n",
    "print(np.sort(arr))"
   ]
  },
  {
   "cell_type": "code",
   "execution_count": 4,
   "id": "ace71b36",
   "metadata": {},
   "outputs": [
    {
     "name": "stdout",
     "output_type": "stream",
     "text": [
      "[False  True  True]\n"
     ]
    }
   ],
   "source": [
    "arr = np.array([True, False, True])\n",
    "\n",
    "print(np.sort(arr))"
   ]
  },
  {
   "cell_type": "code",
   "execution_count": 12,
   "id": "4db9dc3d",
   "metadata": {},
   "outputs": [
    {
     "name": "stdout",
     "output_type": "stream",
     "text": [
      "[[2 3 4]\n",
      " [0 1 5]]\n"
     ]
    }
   ],
   "source": [
    "arr = np.array([[3, 2, 4], [5, 0, 1]])\n",
    "\n",
    "print(np.sort(arr))"
   ]
  },
  {
   "cell_type": "code",
   "execution_count": 9,
   "id": "89187023",
   "metadata": {},
   "outputs": [
    {
     "name": "stdout",
     "output_type": "stream",
     "text": [
      "Along first axis : \n",
      " [[3 0 1]\n",
      " [5 2 4]]\n",
      "\n",
      "Along last axis : \n",
      " [[2 3 4]\n",
      " [0 1 5]]\n",
      "\n",
      "Along none axis : \n",
      " [0 1 2 3 4 5]\n"
     ]
    }
   ],
   "source": [
    "a = np.array([[3, 2, 4], [5, 0, 1]])\n",
    "\n",
    "# sort along the first axis\n",
    "arr1 = np.sort(a, axis = 0)\n",
    "print (\"Along first axis : \\n\", arr1)        \n",
    " \n",
    " \n",
    "# sort along the last axis\n",
    "arr2 = np.sort(a, axis = -1)        \n",
    "print (\"\\nAlong last axis : \\n\", arr2)\n",
    "\n",
    "arr1 = np.sort(a, axis = None)        \n",
    "print (\"\\nAlong none axis : \\n\", arr1)"
   ]
  },
  {
   "cell_type": "markdown",
   "id": "f4218d7a",
   "metadata": {},
   "source": [
    "### numpy.argsort() : This function returns the indices that would sort an array."
   ]
  },
  {
   "cell_type": "code",
   "execution_count": 13,
   "id": "4df53b6e",
   "metadata": {},
   "outputs": [
    {
     "name": "stdout",
     "output_type": "stream",
     "text": [
      "Original array:\n",
      " [9 3 1 7 4 3 6]\n",
      "Sorted indices of original array-> [2 1 5 4 6 3 0]\n",
      "Sorted array-> [1 3 3 4 6 7 9]\n"
     ]
    }
   ],
   "source": [
    "a = np.array([9, 3, 1, 7, 4, 3, 6])\n",
    "print('Original array:\\n', a)\n",
    "\n",
    "b = np.argsort(a)\n",
    "print('Sorted indices of original array->', b)\n",
    " \n",
    "# To get sorted array using sorted indices c is temp array created of same len as of b\n",
    "c = np.zeros(len(b), dtype = int)\n",
    "for i in range(0, len(b)):\n",
    "    c[i]= a[b[i]]\n",
    "print('Sorted array->', c)"
   ]
  },
  {
   "cell_type": "markdown",
   "id": "5d56d1d5",
   "metadata": {},
   "source": [
    "### numpy.lexsort() : This function returns an indirect stable sort using a sequence of keys."
   ]
  },
  {
   "cell_type": "code",
   "execution_count": 17,
   "id": "6822c437",
   "metadata": {},
   "outputs": [
    {
     "name": "stdout",
     "output_type": "stream",
     "text": [
      "column a, column b\n",
      "9          4\n",
      "3          6\n",
      "1          9\n",
      "3          2\n",
      "4          1\n",
      "3          8\n",
      "6          7\n",
      "Sorted indices-> [2 3 1 5 4 6 0]\n"
     ]
    }
   ],
   "source": [
    "# First column\n",
    "a = np.array([9, 3, 1, 3, 4, 3, 6])\n",
    " \n",
    "# Second column \n",
    "b = np.array([4, 6, 9, 2, 1, 8, 7]) \n",
    "print('column a, column b')\n",
    "for (i, j) in zip(a, b):\n",
    "    print(i, '        ', j)\n",
    " \n",
    "# Sort by a then by b\n",
    "ind = np.lexsort((b, a)) \n",
    "print('Sorted indices->', ind)"
   ]
  },
  {
   "cell_type": "markdown",
   "id": "e9cafe61",
   "metadata": {},
   "source": [
    "# Searching"
   ]
  },
  {
   "cell_type": "markdown",
   "id": "0cb6b7a9",
   "metadata": {},
   "source": [
    "### where() method"
   ]
  },
  {
   "cell_type": "code",
   "execution_count": 18,
   "id": "36e1bc97",
   "metadata": {},
   "outputs": [
    {
     "name": "stdout",
     "output_type": "stream",
     "text": [
      "(array([3, 5, 6], dtype=int64),)\n"
     ]
    }
   ],
   "source": [
    "arr = np.array([1, 2, 3, 4, 5, 4, 4])\n",
    "\n",
    "x = np.where(arr == 4)\n",
    "\n",
    "print(x)"
   ]
  },
  {
   "cell_type": "code",
   "execution_count": 19,
   "id": "fef20290",
   "metadata": {},
   "outputs": [
    {
     "name": "stdout",
     "output_type": "stream",
     "text": [
      "(array([1, 3, 5, 7], dtype=int64),)\n"
     ]
    }
   ],
   "source": [
    "arr = np.array([1, 2, 3, 4, 5, 6, 7, 8])\n",
    "\n",
    "x = np.where(arr%2 == 0)\n",
    "\n",
    "print(x)"
   ]
  },
  {
   "cell_type": "markdown",
   "id": "6e43c8d6",
   "metadata": {},
   "source": [
    "### searchsorted(): performs a binary search in the array, and returns the index where the specified value would be inserted to maintain the search order."
   ]
  },
  {
   "cell_type": "code",
   "execution_count": 20,
   "id": "4a0be075",
   "metadata": {},
   "outputs": [
    {
     "name": "stdout",
     "output_type": "stream",
     "text": [
      "1\n"
     ]
    }
   ],
   "source": [
    "arr = np.array([6, 7, 8, 9])\n",
    "\n",
    "x = np.searchsorted(arr, 7)\n",
    "\n",
    "print(x)"
   ]
  },
  {
   "cell_type": "code",
   "execution_count": 21,
   "id": "07f45eb5",
   "metadata": {},
   "outputs": [
    {
     "name": "stdout",
     "output_type": "stream",
     "text": [
      "2\n"
     ]
    }
   ],
   "source": [
    "arr = np.array([6, 7, 8, 9])\n",
    "\n",
    "x = np.searchsorted(arr, 7, side='right')\n",
    "\n",
    "print(x)"
   ]
  },
  {
   "cell_type": "code",
   "execution_count": 22,
   "id": "0280e301",
   "metadata": {},
   "outputs": [
    {
     "name": "stdout",
     "output_type": "stream",
     "text": [
      "[1 2 3]\n"
     ]
    }
   ],
   "source": [
    "arr = np.array([1, 3, 5, 7])\n",
    "\n",
    "x = np.searchsorted(arr, [2, 4, 6])\n",
    "\n",
    "print(x)"
   ]
  },
  {
   "cell_type": "markdown",
   "id": "9d3f5123",
   "metadata": {},
   "source": [
    "### numpy.argmax() : This function returns indices of the max element of the array in a particular axis."
   ]
  },
  {
   "cell_type": "code",
   "execution_count": 24,
   "id": "0ce8567e",
   "metadata": {},
   "outputs": [
    {
     "name": "stdout",
     "output_type": "stream",
     "text": [
      "INPUT ARRAY : \n",
      " [[ 0  1  2  3]\n",
      " [ 4  5  6  7]\n",
      " [ 8  9 10 11]]\n",
      "\n",
      "Max element :  11\n",
      "\n",
      "Indices of Max element :  [2 2 2 2]\n",
      "\n",
      "Indices of Max element :  [3 3 3]\n"
     ]
    }
   ],
   "source": [
    "array = np.arange(12).reshape(3, 4)\n",
    "print(\"INPUT ARRAY : \\n\", array)\n",
    " \n",
    "# No axis mentioned, so works on entire array\n",
    "print(\"\\nMax element : \", np.argmax(array))\n",
    " \n",
    "# returning Indices of the max element as per the indices\n",
    "print(\"\\nIndices of Max element : \", np.argmax(array, axis=0))\n",
    "print(\"\\nIndices of Max element : \", np.argmax(array, axis=1))"
   ]
  },
  {
   "cell_type": "markdown",
   "id": "23418788",
   "metadata": {},
   "source": [
    "### numpy.argmin() : This function returns the indices of the minimum values along an axis."
   ]
  },
  {
   "cell_type": "code",
   "execution_count": 25,
   "id": "54e14bfa",
   "metadata": {},
   "outputs": [
    {
     "name": "stdout",
     "output_type": "stream",
     "text": [
      "INPUT ARRAY : \n",
      " [[ 0  1  2  3]\n",
      " [ 4  5  6  7]\n",
      " [ 8  9 10 11]]\n",
      "\n",
      "Max element :  0\n",
      "\n",
      "Indices of Max element :  [0 0 0 0]\n",
      "\n",
      "Indices of Max element :  [0 0 0]\n"
     ]
    }
   ],
   "source": [
    "array = np.arange(12).reshape(3, 4)\n",
    "print(\"INPUT ARRAY : \\n\", array)\n",
    " \n",
    "# No axis mentioned, so works on entire array\n",
    "print(\"\\nMax element : \", np.argmin(array))\n",
    " \n",
    "# returning Indices of the max element as per the indices\n",
    "print(\"\\nIndices of Max element : \", np.argmin(array, axis=0))\n",
    "print(\"\\nIndices of Max element : \", np.argmin(array, axis=1))"
   ]
  },
  {
   "cell_type": "markdown",
   "id": "1e42d1d2",
   "metadata": {},
   "source": [
    "# Counting"
   ]
  },
  {
   "cell_type": "markdown",
   "id": "5395d12c",
   "metadata": {},
   "source": [
    "### numpy.count_nonzero() : Counts the number of non-zero values in the array ."
   ]
  },
  {
   "cell_type": "code",
   "execution_count": 27,
   "id": "c86f6c3d",
   "metadata": {},
   "outputs": [
    {
     "name": "stdout",
     "output_type": "stream",
     "text": [
      "Number of nonzero values is : 5\n",
      "Number of nonzero values is : [1 1 1 1 1]\n"
     ]
    }
   ],
   "source": [
    "a = np.count_nonzero([[0,1,7,0,0],[3,0,0,2,19]])\n",
    "b = np.count_nonzero([[0,1,7,0,0],[3,0,0,2,19]], axis=0)\n",
    " \n",
    "print(\"Number of nonzero values is :\",a)\n",
    "print(\"Number of nonzero values is :\",b)"
   ]
  },
  {
   "cell_type": "code",
   "execution_count": null,
   "id": "b033891f",
   "metadata": {},
   "outputs": [],
   "source": []
  }
 ],
 "metadata": {
  "kernelspec": {
   "display_name": "Python 3 (ipykernel)",
   "language": "python",
   "name": "python3"
  },
  "language_info": {
   "codemirror_mode": {
    "name": "ipython",
    "version": 3
   },
   "file_extension": ".py",
   "mimetype": "text/x-python",
   "name": "python",
   "nbconvert_exporter": "python",
   "pygments_lexer": "ipython3",
   "version": "3.9.6"
  }
 },
 "nbformat": 4,
 "nbformat_minor": 5
}
