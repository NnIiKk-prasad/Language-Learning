{
 "cells": [
  {
   "cell_type": "markdown",
   "id": "402a661d",
   "metadata": {},
   "source": [
    "# Constants in SciPy"
   ]
  },
  {
   "cell_type": "code",
   "execution_count": 1,
   "id": "32ba0dda",
   "metadata": {},
   "outputs": [],
   "source": [
    "from scipy import constants"
   ]
  },
  {
   "cell_type": "code",
   "execution_count": 2,
   "id": "d5e8ae99",
   "metadata": {},
   "outputs": [
    {
     "name": "stdout",
     "output_type": "stream",
     "text": [
      "3.141592653589793\n"
     ]
    }
   ],
   "source": [
    "# Print the constant value of PI:\n",
    "print(constants.pi)"
   ]
  },
  {
   "cell_type": "code",
   "execution_count": 3,
   "id": "a4711909",
   "metadata": {},
   "outputs": [
    {
     "name": "stdout",
     "output_type": "stream",
     "text": [
      "Avogadro\n",
      "Boltzmann\n",
      "Btu\n",
      "Btu_IT\n",
      "Btu_th\n",
      "ConstantWarning\n",
      "G\n",
      "Julian_year\n",
      "N_A\n",
      "Planck\n",
      "R\n",
      "Rydberg\n",
      "Stefan_Boltzmann\n",
      "Wien\n",
      "__all__\n",
      "__builtins__\n",
      "__cached__\n",
      "__doc__\n",
      "__file__\n",
      "__loader__\n",
      "__name__\n",
      "__package__\n",
      "__path__\n",
      "__spec__\n",
      "_obsolete_constants\n",
      "acre\n",
      "alpha\n",
      "angstrom\n",
      "arcmin\n",
      "arcminute\n",
      "arcsec\n",
      "arcsecond\n",
      "astronomical_unit\n",
      "atm\n",
      "atmosphere\n",
      "atomic_mass\n",
      "atto\n",
      "au\n",
      "bar\n",
      "barrel\n",
      "bbl\n",
      "blob\n",
      "c\n",
      "calorie\n",
      "calorie_IT\n",
      "calorie_th\n",
      "carat\n",
      "centi\n",
      "codata\n",
      "constants\n",
      "convert_temperature\n",
      "day\n",
      "deci\n",
      "degree\n",
      "degree_Fahrenheit\n",
      "deka\n",
      "dyn\n",
      "dyne\n",
      "e\n",
      "eV\n",
      "electron_mass\n",
      "electron_volt\n",
      "elementary_charge\n",
      "epsilon_0\n",
      "erg\n",
      "exa\n",
      "exbi\n",
      "femto\n",
      "fermi\n",
      "find\n",
      "fine_structure\n",
      "fluid_ounce\n",
      "fluid_ounce_US\n",
      "fluid_ounce_imp\n",
      "foot\n",
      "g\n",
      "gallon\n",
      "gallon_US\n",
      "gallon_imp\n",
      "gas_constant\n",
      "gibi\n",
      "giga\n",
      "golden\n",
      "golden_ratio\n",
      "grain\n",
      "gram\n",
      "gravitational_constant\n",
      "h\n",
      "hbar\n",
      "hectare\n",
      "hecto\n",
      "horsepower\n",
      "hour\n",
      "hp\n",
      "inch\n",
      "k\n",
      "kgf\n",
      "kibi\n",
      "kilo\n",
      "kilogram_force\n",
      "kmh\n",
      "knot\n",
      "lambda2nu\n",
      "lb\n",
      "lbf\n",
      "light_year\n",
      "liter\n",
      "litre\n",
      "long_ton\n",
      "m_e\n",
      "m_n\n",
      "m_p\n",
      "m_u\n",
      "mach\n",
      "mebi\n",
      "mega\n",
      "metric_ton\n",
      "micro\n",
      "micron\n",
      "mil\n",
      "mile\n",
      "milli\n",
      "minute\n",
      "mmHg\n",
      "mph\n",
      "mu_0\n",
      "nano\n",
      "nautical_mile\n",
      "neutron_mass\n",
      "nu2lambda\n",
      "ounce\n",
      "oz\n",
      "parsec\n",
      "pebi\n",
      "peta\n",
      "physical_constants\n",
      "pi\n",
      "pico\n",
      "point\n",
      "pound\n",
      "pound_force\n",
      "precision\n",
      "proton_mass\n",
      "psi\n",
      "pt\n",
      "short_ton\n",
      "sigma\n",
      "slinch\n",
      "slug\n",
      "speed_of_light\n",
      "speed_of_sound\n",
      "stone\n",
      "survey_foot\n",
      "survey_mile\n",
      "tebi\n",
      "tera\n",
      "test\n",
      "ton_TNT\n",
      "torr\n",
      "troy_ounce\n",
      "troy_pound\n",
      "u\n",
      "unit\n",
      "value\n",
      "week\n",
      "yard\n",
      "year\n",
      "yobi\n",
      "yotta\n",
      "zebi\n",
      "zepto\n",
      "zero_Celsius\n",
      "zetta\n"
     ]
    }
   ],
   "source": [
    "# List all constants:\n",
    "for const in dir(constants):\n",
    "    print(const)"
   ]
  },
  {
   "cell_type": "markdown",
   "id": "7257c6bc",
   "metadata": {},
   "source": [
    "## Metric (SI) Prefixes:\n",
    "Return the specified unit in meter."
   ]
  },
  {
   "cell_type": "code",
   "execution_count": 4,
   "id": "a2036ea4",
   "metadata": {},
   "outputs": [
    {
     "name": "stdout",
     "output_type": "stream",
     "text": [
      "1e+24\n",
      "1e+21\n",
      "1e+18\n",
      "1000000000000000.0\n",
      "1000000000000.0\n",
      "1000000000.0\n",
      "1000000.0\n",
      "1000.0\n",
      "100.0\n",
      "10.0\n",
      "0.1\n",
      "0.01\n",
      "0.001\n",
      "1e-06\n",
      "1e-09\n",
      "1e-12\n",
      "1e-15\n",
      "1e-18\n",
      "1e-21\n"
     ]
    }
   ],
   "source": [
    "print(constants.yotta)    #1e+24\n",
    "print(constants.zetta)    #1e+21\n",
    "print(constants.exa)      #1e+18\n",
    "print(constants.peta)     #1000000000000000.0\n",
    "print(constants.tera)     #1000000000000.0\n",
    "print(constants.giga)     #1000000000.0\n",
    "print(constants.mega)     #1000000.0\n",
    "print(constants.kilo)     #1000.0\n",
    "print(constants.hecto)    #100.0\n",
    "print(constants.deka)     #10.0\n",
    "print(constants.deci)     #0.1\n",
    "print(constants.centi)    #0.01\n",
    "print(constants.milli)    #0.001\n",
    "print(constants.micro)    #1e-06\n",
    "print(constants.nano)     #1e-09\n",
    "print(constants.pico)     #1e-12\n",
    "print(constants.femto)    #1e-15\n",
    "print(constants.atto)     #1e-18\n",
    "print(constants.zepto)    #1e-21"
   ]
  },
  {
   "cell_type": "markdown",
   "id": "33ac09ce",
   "metadata": {},
   "source": [
    "## Binary Prefixes:\n",
    "Return the specified unit in bytes."
   ]
  },
  {
   "cell_type": "code",
   "execution_count": 5,
   "id": "e7de927a",
   "metadata": {},
   "outputs": [
    {
     "name": "stdout",
     "output_type": "stream",
     "text": [
      "1024\n",
      "1048576\n",
      "1073741824\n",
      "1099511627776\n",
      "1125899906842624\n",
      "1152921504606846976\n",
      "1180591620717411303424\n",
      "1208925819614629174706176\n"
     ]
    }
   ],
   "source": [
    "print(constants.kibi)    #1024\n",
    "print(constants.mebi)    #1048576\n",
    "print(constants.gibi)    #1073741824\n",
    "print(constants.tebi)    #1099511627776\n",
    "print(constants.pebi)    #1125899906842624\n",
    "print(constants.exbi)    #1152921504606846976\n",
    "print(constants.zebi)    #1180591620717411303424\n",
    "print(constants.yobi)    #1208925819614629174706176"
   ]
  },
  {
   "cell_type": "markdown",
   "id": "24ed184b",
   "metadata": {},
   "source": [
    "## Mass:\n",
    "Return the specified unit in kg."
   ]
  },
  {
   "cell_type": "code",
   "execution_count": 6,
   "id": "d06d113e",
   "metadata": {},
   "outputs": [
    {
     "name": "stdout",
     "output_type": "stream",
     "text": [
      "0.001\n",
      "1000.0\n",
      "6.479891e-05\n",
      "0.45359236999999997\n",
      "0.45359236999999997\n",
      "0.028349523124999998\n",
      "0.028349523124999998\n",
      "6.3502931799999995\n",
      "1016.0469088\n",
      "907.1847399999999\n",
      "0.031103476799999998\n",
      "0.37324172159999996\n",
      "0.0002\n",
      "1.6605390666e-27\n",
      "1.6605390666e-27\n",
      "1.6605390666e-27\n"
     ]
    }
   ],
   "source": [
    "print(constants.gram)        #0.001\n",
    "print(constants.metric_ton)  #1000.0\n",
    "print(constants.grain)       #6.479891e-05\n",
    "print(constants.lb)          #0.45359236999999997\n",
    "print(constants.pound)       #0.45359236999999997\n",
    "print(constants.oz)          #0.028349523124999998\n",
    "print(constants.ounce)       #0.028349523124999998\n",
    "print(constants.stone)       #6.3502931799999995\n",
    "print(constants.long_ton)    #1016.0469088\n",
    "print(constants.short_ton)   #907.1847399999999\n",
    "print(constants.troy_ounce)  #0.031103476799999998\n",
    "print(constants.troy_pound)  #0.37324172159999996\n",
    "print(constants.carat)       #0.0002\n",
    "print(constants.atomic_mass) #1.66053904e-27\n",
    "print(constants.m_u)         #1.66053904e-27\n",
    "print(constants.u)           #1.66053904e-27"
   ]
  },
  {
   "cell_type": "markdown",
   "id": "9d8c00d3",
   "metadata": {},
   "source": [
    "## Angle:\n",
    "Return the specified unit in radians."
   ]
  },
  {
   "cell_type": "code",
   "execution_count": 7,
   "id": "6212d63b",
   "metadata": {},
   "outputs": [
    {
     "name": "stdout",
     "output_type": "stream",
     "text": [
      "0.017453292519943295\n",
      "0.0002908882086657216\n",
      "0.0002908882086657216\n",
      "4.84813681109536e-06\n",
      "4.84813681109536e-06\n"
     ]
    }
   ],
   "source": [
    "print(constants.degree)     #0.017453292519943295\n",
    "print(constants.arcmin)     #0.0002908882086657216\n",
    "print(constants.arcminute)  #0.0002908882086657216\n",
    "print(constants.arcsec)     #4.84813681109536e-06\n",
    "print(constants.arcsecond)  #4.84813681109536e-06"
   ]
  },
  {
   "cell_type": "markdown",
   "id": "ef5248dc",
   "metadata": {},
   "source": [
    "## Time:\n",
    "Return the specified unit in seconds."
   ]
  },
  {
   "cell_type": "code",
   "execution_count": 8,
   "id": "4146e614",
   "metadata": {},
   "outputs": [
    {
     "name": "stdout",
     "output_type": "stream",
     "text": [
      "60.0\n",
      "3600.0\n",
      "86400.0\n",
      "604800.0\n",
      "31536000.0\n",
      "31557600.0\n"
     ]
    }
   ],
   "source": [
    "print(constants.minute)      #60.0\n",
    "print(constants.hour)        #3600.0\n",
    "print(constants.day)         #86400.0\n",
    "print(constants.week)        #604800.0\n",
    "print(constants.year)        #31536000.0\n",
    "print(constants.Julian_year) #31557600.0"
   ]
  },
  {
   "cell_type": "markdown",
   "id": "218bd8a3",
   "metadata": {},
   "source": [
    "## Length:\n",
    "Return the specified unit in meters."
   ]
  },
  {
   "cell_type": "code",
   "execution_count": 9,
   "id": "07ca4956",
   "metadata": {},
   "outputs": [
    {
     "name": "stdout",
     "output_type": "stream",
     "text": [
      "0.0254\n",
      "0.30479999999999996\n",
      "0.9143999999999999\n",
      "1609.3439999999998\n",
      "2.5399999999999997e-05\n",
      "0.00035277777777777776\n",
      "0.00035277777777777776\n",
      "0.3048006096012192\n",
      "1609.3472186944373\n",
      "1852.0\n",
      "1e-15\n",
      "1e-10\n",
      "1e-06\n",
      "149597870700.0\n",
      "149597870700.0\n",
      "9460730472580800.0\n",
      "3.085677581491367e+16\n"
     ]
    }
   ],
   "source": [
    "print(constants.inch)              #0.0254\n",
    "print(constants.foot)              #0.30479999999999996\n",
    "print(constants.yard)              #0.9143999999999999\n",
    "print(constants.mile)              #1609.3439999999998\n",
    "print(constants.mil)               #2.5399999999999997e-05\n",
    "print(constants.pt)                #0.00035277777777777776\n",
    "print(constants.point)             #0.00035277777777777776\n",
    "print(constants.survey_foot)       #0.3048006096012192\n",
    "print(constants.survey_mile)       #1609.3472186944373\n",
    "print(constants.nautical_mile)     #1852.0\n",
    "print(constants.fermi)             #1e-15\n",
    "print(constants.angstrom)          #1e-10\n",
    "print(constants.micron)            #1e-06\n",
    "print(constants.au)                #149597870691.0\n",
    "print(constants.astronomical_unit) #149597870691.0\n",
    "print(constants.light_year)        #9460730472580800.0\n",
    "print(constants.parsec)            #3.0856775813057292e+16"
   ]
  },
  {
   "cell_type": "markdown",
   "id": "b31e912e",
   "metadata": {},
   "source": [
    "## Pressure:\n",
    "Return the specified unit in pascals."
   ]
  },
  {
   "cell_type": "code",
   "execution_count": 10,
   "id": "2f835506",
   "metadata": {},
   "outputs": [
    {
     "name": "stdout",
     "output_type": "stream",
     "text": [
      "101325.0\n",
      "101325.0\n",
      "100000.0\n",
      "133.32236842105263\n",
      "133.32236842105263\n",
      "6894.757293168361\n"
     ]
    }
   ],
   "source": [
    "print(constants.atm)         #101325.0\n",
    "print(constants.atmosphere)  #101325.0\n",
    "print(constants.bar)         #100000.0\n",
    "print(constants.torr)        #133.32236842105263\n",
    "print(constants.mmHg)        #133.32236842105263\n",
    "print(constants.psi)         #6894.757293168361"
   ]
  },
  {
   "cell_type": "markdown",
   "id": "daf857c3",
   "metadata": {},
   "source": [
    "## Area:\n",
    "Return the specified unit in square meters."
   ]
  },
  {
   "cell_type": "code",
   "execution_count": 11,
   "id": "1fa67805",
   "metadata": {},
   "outputs": [
    {
     "name": "stdout",
     "output_type": "stream",
     "text": [
      "10000.0\n",
      "4046.8564223999992\n"
     ]
    }
   ],
   "source": [
    "print(constants.hectare) #10000.0\n",
    "print(constants.acre)    #4046.8564223999992"
   ]
  },
  {
   "cell_type": "markdown",
   "id": "053433f1",
   "metadata": {},
   "source": [
    "## Volume:\n",
    "Return the specified unit in cubic meters."
   ]
  },
  {
   "cell_type": "code",
   "execution_count": 12,
   "id": "743de793",
   "metadata": {},
   "outputs": [
    {
     "name": "stdout",
     "output_type": "stream",
     "text": [
      "0.001\n",
      "0.001\n",
      "0.0037854117839999997\n",
      "0.0037854117839999997\n",
      "0.00454609\n",
      "2.9573529562499998e-05\n",
      "2.9573529562499998e-05\n",
      "2.84130625e-05\n",
      "0.15898729492799998\n",
      "0.15898729492799998\n"
     ]
    }
   ],
   "source": [
    "print(constants.liter)            #0.001\n",
    "print(constants.litre)            #0.001\n",
    "print(constants.gallon)           #0.0037854117839999997\n",
    "print(constants.gallon_US)        #0.0037854117839999997\n",
    "print(constants.gallon_imp)       #0.00454609\n",
    "print(constants.fluid_ounce)      #2.9573529562499998e-05\n",
    "print(constants.fluid_ounce_US)   #2.9573529562499998e-05\n",
    "print(constants.fluid_ounce_imp)  #2.84130625e-05\n",
    "print(constants.barrel)           #0.15898729492799998\n",
    "print(constants.bbl)              #0.15898729492799998"
   ]
  },
  {
   "cell_type": "markdown",
   "id": "8af3b2d4",
   "metadata": {},
   "source": [
    "## Speed:\n",
    "Return the specified unit in meters per second."
   ]
  },
  {
   "cell_type": "code",
   "execution_count": 13,
   "id": "1d29814c",
   "metadata": {},
   "outputs": [
    {
     "name": "stdout",
     "output_type": "stream",
     "text": [
      "0.2777777777777778\n",
      "0.44703999999999994\n",
      "340.5\n",
      "340.5\n",
      "0.5144444444444445\n"
     ]
    }
   ],
   "source": [
    "print(constants.kmh)            #0.2777777777777778\n",
    "print(constants.mph)            #0.44703999999999994\n",
    "print(constants.mach)           #340.5\n",
    "print(constants.speed_of_sound) #340.5\n",
    "print(constants.knot)           #0.5144444444444445"
   ]
  },
  {
   "cell_type": "markdown",
   "id": "33377c98",
   "metadata": {},
   "source": [
    "## Temperature:\n",
    "Return the specified unit in Kelvin."
   ]
  },
  {
   "cell_type": "code",
   "execution_count": 14,
   "id": "cd4e2d11",
   "metadata": {},
   "outputs": [
    {
     "name": "stdout",
     "output_type": "stream",
     "text": [
      "273.15\n",
      "0.5555555555555556\n"
     ]
    }
   ],
   "source": [
    "print(constants.zero_Celsius)      #273.15\n",
    "print(constants.degree_Fahrenheit) #0.5555555555555556"
   ]
  },
  {
   "cell_type": "markdown",
   "id": "fb0818db",
   "metadata": {},
   "source": [
    "## Energy:\n",
    "Return the specified unit in joules."
   ]
  },
  {
   "cell_type": "code",
   "execution_count": 15,
   "id": "21ded53e",
   "metadata": {},
   "outputs": [
    {
     "name": "stdout",
     "output_type": "stream",
     "text": [
      "1.602176634e-19\n",
      "1.602176634e-19\n",
      "4.184\n",
      "4.184\n",
      "4.1868\n",
      "1e-07\n",
      "1055.05585262\n",
      "1055.05585262\n",
      "1054.3502644888888\n",
      "4184000000.0\n"
     ]
    }
   ],
   "source": [
    "print(constants.eV)            #1.6021766208e-19\n",
    "print(constants.electron_volt) #1.6021766208e-19\n",
    "print(constants.calorie)       #4.184\n",
    "print(constants.calorie_th)    #4.184\n",
    "print(constants.calorie_IT)    #4.1868\n",
    "print(constants.erg)           #1e-07\n",
    "print(constants.Btu)           #1055.05585262\n",
    "print(constants.Btu_IT)        #1055.05585262\n",
    "print(constants.Btu_th)        #1054.3502644888888\n",
    "print(constants.ton_TNT)       #4184000000.0"
   ]
  },
  {
   "cell_type": "markdown",
   "id": "10d699db",
   "metadata": {},
   "source": [
    "## Power:\n",
    "Return the specified unit in watts."
   ]
  },
  {
   "cell_type": "code",
   "execution_count": 16,
   "id": "b9d39db6",
   "metadata": {},
   "outputs": [
    {
     "name": "stdout",
     "output_type": "stream",
     "text": [
      "745.6998715822701\n",
      "745.6998715822701\n"
     ]
    }
   ],
   "source": [
    "print(constants.hp)         #745.6998715822701\n",
    "print(constants.horsepower) #745.6998715822701"
   ]
  },
  {
   "cell_type": "markdown",
   "id": "25e88667",
   "metadata": {},
   "source": [
    "## Force:\n",
    "Return the specified unit in newton."
   ]
  },
  {
   "cell_type": "code",
   "execution_count": 17,
   "id": "8d04967a",
   "metadata": {},
   "outputs": [
    {
     "name": "stdout",
     "output_type": "stream",
     "text": [
      "1e-05\n",
      "1e-05\n",
      "4.4482216152605\n",
      "4.4482216152605\n",
      "9.80665\n",
      "9.80665\n"
     ]
    }
   ],
   "source": [
    "print(constants.dyn)             #1e-05\n",
    "print(constants.dyne)            #1e-05\n",
    "print(constants.lbf)             #4.4482216152605\n",
    "print(constants.pound_force)     #4.4482216152605\n",
    "print(constants.kgf)             #9.80665\n",
    "print(constants.kilogram_force)  #9.80665"
   ]
  },
  {
   "cell_type": "code",
   "execution_count": null,
   "id": "4c5a1ffa",
   "metadata": {},
   "outputs": [],
   "source": []
  }
 ],
 "metadata": {
  "kernelspec": {
   "display_name": "Python 3 (ipykernel)",
   "language": "python",
   "name": "python3"
  },
  "language_info": {
   "codemirror_mode": {
    "name": "ipython",
    "version": 3
   },
   "file_extension": ".py",
   "mimetype": "text/x-python",
   "name": "python",
   "nbconvert_exporter": "python",
   "pygments_lexer": "ipython3",
   "version": "3.9.6"
  }
 },
 "nbformat": 4,
 "nbformat_minor": 5
}
