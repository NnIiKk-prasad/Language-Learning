{
 "cells": [
  {
   "cell_type": "markdown",
   "id": "eb5ef9dd",
   "metadata": {},
   "source": [
    "# Optimizers in SciPy"
   ]
  },
  {
   "cell_type": "markdown",
   "id": "6685de69",
   "metadata": {},
   "source": [
    "## Roots of an Equation:\n",
    "NumPy is capable of finding roots for polynomials and linear equations, but it can not find roots for non linear equations.\n",
    "\n",
    "For that you can use SciPy's optimze.root function.\n",
    "\n",
    "This function takes two required arguments:\n",
    "\n",
    "fun - a function representing an equation.\n",
    "\n",
    "x0 - an initial guess for the root."
   ]
  },
  {
   "cell_type": "code",
   "execution_count": 1,
   "id": "6b69aa39",
   "metadata": {},
   "outputs": [
    {
     "name": "stdout",
     "output_type": "stream",
     "text": [
      "    fjac: array([[-1.]])\n",
      "     fun: array([0.])\n",
      " message: 'The solution converged.'\n",
      "    nfev: 9\n",
      "     qtf: array([-2.66786593e-13])\n",
      "       r: array([-1.67361202])\n",
      "  status: 1\n",
      " success: True\n",
      "       x: array([-0.73908513])\n"
     ]
    }
   ],
   "source": [
    "from scipy.optimize import root\n",
    "from math import cos\n",
    "\n",
    "def eqn(x):\n",
    "  return x + cos(x)\n",
    "\n",
    "myroot = root(eqn, 0)\n",
    "\n",
    "print(myroot)"
   ]
  },
  {
   "cell_type": "markdown",
   "id": "3885fddf",
   "metadata": {},
   "source": [
    "## Minimizing a Function:\n",
    "We can use scipy.optimize.minimize() function to minimize the function.\n",
    "\n",
    "The minimize() function takes the following arguments:\n",
    "\n",
    "fun - a function representing an equation.\n",
    "\n",
    "x0 - an initial guess for the root.\n",
    "\n",
    "method - name of the method to use. Legal values:\n",
    "    \n",
    "    'CG'        - Conjugate Gradient algorithm\n",
    "    \n",
    "    'BFGS'      - Broyden–Fletcher–Goldfarb–Shanno algorithm\n",
    "    \n",
    "    'Newton-CG' - Newton Conjugate Gradient algorithm\n",
    "    \n",
    "    'L-BFGS-B'  -  Limited memory BFGS-B algorithm\n",
    "    \n",
    "    'TNC'       - Truncated Newton Conjugate algorithm\n",
    "    \n",
    "    'COBYLA'    - Constrained Optimization by Linear Approximation algorithm\n",
    "    \n",
    "    'SLSQP'     - Sequential Least Squares Programming algorithm\n",
    "\n",
    "callback - function called after each iteration of optimization.\n",
    "\n",
    "options - a dictionary defining extra params:\n",
    "\n",
    "  {\n",
    "     \n",
    "     \"disp\": boolean - print detailed description\n",
    "     \n",
    "     \"gtol\": number - the tolerance of the error\n",
    "  }"
   ]
  },
  {
   "cell_type": "code",
   "execution_count": 2,
   "id": "71457d07",
   "metadata": {},
   "outputs": [
    {
     "name": "stdout",
     "output_type": "stream",
     "text": [
      "      fun: 1.75\n",
      " hess_inv: array([[0.50000001]])\n",
      "      jac: array([0.])\n",
      "  message: 'Optimization terminated successfully.'\n",
      "     nfev: 8\n",
      "      nit: 2\n",
      "     njev: 4\n",
      "   status: 0\n",
      "  success: True\n",
      "        x: array([-0.50000001])\n"
     ]
    }
   ],
   "source": [
    "# Minimize the function x^2 + x + 2 with BFGS:\n",
    "from scipy.optimize import minimize\n",
    "\n",
    "def eqn(x):\n",
    "  return x**2 + x + 2\n",
    "\n",
    "mymin = minimize(eqn, 0, method='BFGS')\n",
    "\n",
    "print(mymin)"
   ]
  },
  {
   "cell_type": "code",
   "execution_count": null,
   "id": "4c467f68",
   "metadata": {},
   "outputs": [],
   "source": []
  }
 ],
 "metadata": {
  "kernelspec": {
   "display_name": "Python 3 (ipykernel)",
   "language": "python",
   "name": "python3"
  },
  "language_info": {
   "codemirror_mode": {
    "name": "ipython",
    "version": 3
   },
   "file_extension": ".py",
   "mimetype": "text/x-python",
   "name": "python",
   "nbconvert_exporter": "python",
   "pygments_lexer": "ipython3",
   "version": "3.9.6"
  }
 },
 "nbformat": 4,
 "nbformat_minor": 5
}
