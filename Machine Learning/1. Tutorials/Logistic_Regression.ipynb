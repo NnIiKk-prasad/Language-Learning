{
 "cells": [
  {
   "cell_type": "markdown",
   "id": "e6c40566",
   "metadata": {},
   "source": [
    "# Logistic Regression:\n",
    "Logistic regression is basically a supervised classification algorithm. In a classification problem, the target variable(or output), y, can take only discrete values for given set of features(or inputs), X."
   ]
  },
  {
   "cell_type": "markdown",
   "id": "7507071a",
   "metadata": {},
   "source": [
    "## Binomial Logistic Regression:\n",
    "Binomial logistic regression assume binomial distribution of the response."
   ]
  },
  {
   "cell_type": "markdown",
   "id": "a1da10ac",
   "metadata": {},
   "source": [
    "### Logistic Regression implementation in the Python:"
   ]
  },
  {
   "cell_type": "code",
   "execution_count": 1,
   "id": "a3324870",
   "metadata": {},
   "outputs": [],
   "source": [
    "import numpy as np\n",
    "import matplotlib.pyplot as plt\n",
    "\n",
    "def normalize(X):\n",
    "\t'''\n",
    "\tfunction to normalize feature matrix, X\n",
    "\t'''\n",
    "\tmins = np.min(X, axis = 0)\n",
    "\tmaxs = np.max(X, axis = 0)\n",
    "\trng = maxs - mins\n",
    "\tnorm_X = 1 - ((maxs - X)/rng)\n",
    "\treturn norm_X\n",
    "\n",
    "\n",
    "def logistic_func(beta, X):\n",
    "\t'''\n",
    "\tlogistic(sigmoid) function\n",
    "\t'''\n",
    "\treturn 1.0/(1 + np.exp(-np.dot(X, beta.T)))\n",
    "\n",
    "\n",
    "def log_gradient(beta, X, y):\n",
    "\t'''\n",
    "\tlogistic gradient function\n",
    "\t'''\n",
    "\tfirst_calc = logistic_func(beta, X) - y.reshape(X.shape[0], -1)\n",
    "\tfinal_calc = np.dot(first_calc.T, X)\n",
    "\treturn final_calc\n",
    "\n",
    "\n",
    "def cost_func(beta, X, y):\n",
    "\t'''\n",
    "\tcost function, J\n",
    "\t'''\n",
    "\tlog_func_v = logistic_func(beta, X)\n",
    "\ty = np.squeeze(y)\n",
    "\tstep1 = y * np.log(log_func_v)\n",
    "\tstep2 = (1 - y) * np.log(1 - log_func_v)\n",
    "\tfinal = -step1 - step2\n",
    "\treturn np.mean(final)\n",
    "\n",
    "\n",
    "def grad_desc(X, y, beta, lr=.01, converge_change=.001):\n",
    "\t'''\n",
    "\tgradient descent function\n",
    "\t'''\n",
    "\tcost = cost_func(beta, X, y)\n",
    "\tchange_cost = 1\n",
    "\tnum_iter = 1\n",
    "\t\n",
    "\twhile(change_cost > converge_change):\n",
    "\t\told_cost = cost\n",
    "\t\tbeta = beta - (lr * log_gradient(beta, X, y))\n",
    "\t\tcost = cost_func(beta, X, y)\n",
    "\t\tchange_cost = old_cost - cost\n",
    "\t\tnum_iter += 1\n",
    "\t\n",
    "\treturn beta, num_iter\n",
    "\n",
    "\n",
    "def pred_values(beta, X):\n",
    "\t'''\n",
    "\tfunction to predict labels\n",
    "\t'''\n",
    "\tpred_prob = logistic_func(beta, X)\n",
    "\tpred_value = np.where(pred_prob >= .5, 1, 0)\n",
    "\treturn np.squeeze(pred_value)"
   ]
  },
  {
   "cell_type": "markdown",
   "id": "f9b7e7e3",
   "metadata": {},
   "source": [
    "### Example: To predict wether a flower is iris-verginica or not."
   ]
  },
  {
   "cell_type": "code",
   "execution_count": 2,
   "id": "9074a34e",
   "metadata": {
    "scrolled": true
   },
   "outputs": [
    {
     "name": "stdout",
     "output_type": "stream",
     "text": [
      "Estimated regression coefficients: [[-17.88574815  -1.50809947  -6.14373993  13.73097488  18.32932664]]\n",
      "No. of iterations: 3227\n",
      "Correctly predicted labels: 146\n"
     ]
    }
   ],
   "source": [
    "from sklearn import datasets\n",
    "\n",
    "# loading iris dataset\n",
    "iris = datasets.load_iris()\n",
    "\n",
    "# loading features and lables\n",
    "X = iris['data']\n",
    "y = (iris['target'] == 2).astype(np.int32)\n",
    "\n",
    "# normalizing feature matrix\n",
    "X = normalize(X)\n",
    "  \n",
    "# stacking columns wth all ones in feature matrix\n",
    "X = np.hstack((np.matrix(np.ones(X.shape[0])).T, X))\n",
    "\n",
    "# initial beta values\n",
    "beta = np.matrix(np.zeros(X.shape[1]))\n",
    "\n",
    "# beta values after running gradient descent\n",
    "beta, num_iter = grad_desc(X, y, beta)\n",
    "\n",
    "# estimated beta values and number of iterations\n",
    "print(\"Estimated regression coefficients:\", beta)\n",
    "print(\"No. of iterations:\", num_iter)\n",
    "\n",
    "# predicted labels\n",
    "y_pred = pred_values(beta, X)\n",
    "  \n",
    "# number of correctly predicted labels\n",
    "print(\"Correctly predicted labels:\", np.sum(y == y_pred))"
   ]
  },
  {
   "cell_type": "markdown",
   "id": "d323f986",
   "metadata": {},
   "source": [
    "### Plotting decision boundary:"
   ]
  },
  {
   "cell_type": "code",
   "execution_count": 3,
   "id": "4449a8ab",
   "metadata": {},
   "outputs": [
    {
     "data": {
      "image/png": "[encoded data removed]",
      "text/plain": [
       "<Figure size 432x288 with 1 Axes>"
      ]
     },
     "metadata": {
      "needs_background": "light"
     },
     "output_type": "display_data"
    }
   ],
   "source": [
    "from matplotlib.colors import ListedColormap\n",
    "\n",
    "X_set, y_set = X[:, 1:], y\n",
    "X1, X2 = np.meshgrid(np.arange(start = X_set[:, 0].min() - 1, stop = X_set[:, 0].max() + 1, step = 0.01), \n",
    "                     np.arange(start = X_set[:, 1].min() - 1, stop = X_set[:, 1].max() + 1, step = 0.01))\n",
    "\n",
    "X3, X4 = np.meshgrid(np.arange(start = X_set[:, 2].min() - 1, stop = X_set[:, 2].max() + 1, step = 0.01), \n",
    "                     np.arange(start = X_set[:, 3].min() - 1, stop = X_set[:, 3].max() + 1, step = 0.01))\n",
    "\n",
    "_X = np.array([X1.ravel(), X2.ravel(), X3.ravel(), X4.ravel()])\n",
    "_X = np.vstack((np.matrix(np.ones(_X.shape[1])), _X))\n",
    "y_pred = pred_values(beta, _X.T)\n",
    "\n",
    "plt.contourf(X3, X4, y_pred.reshape(X1.shape), alpha = 0.75, cmap = ListedColormap(('red', 'green')))\n",
    "\n",
    "plt.xlim(X1.min(), X1.max())\n",
    "plt.ylim(X2.min(), X2.max())\n",
    "\n",
    "for i, j in enumerate(np.unique(y_set)):\n",
    "\tplt.scatter(np.squeeze(np.array(X_set[y_set == j, 2])), np.squeeze(np.array(X_set[y_set == j, 3])), color = ListedColormap(('red', 'green'))(i), label = j)\n",
    "\n",
    "plt.title('Classifier (Test set)')\n",
    "plt.legend()\n",
    "plt.show()"
   ]
  },
  {
   "cell_type": "markdown",
   "id": "57e28a22",
   "metadata": {},
   "source": [
    "### Logistic Regression code in the Python Sklearn:"
   ]
  },
  {
   "cell_type": "code",
   "execution_count": 4,
   "id": "c05725f1",
   "metadata": {},
   "outputs": [
    {
     "name": "stdout",
     "output_type": "stream",
     "text": [
      "Estimated regression coefficients:\n",
      " [[1.29706259 0.01000304 2.72609678 3.67383094]]\n",
      "No. of iterations: [16]\n",
      "Correctly predicted labels: 145\n",
      "Solver used: lbfgs\n"
     ]
    }
   ],
   "source": [
    "from sklearn.linear_model import LogisticRegression\n",
    "\n",
    "# loading iris dataset\n",
    "iris = datasets.load_iris()\n",
    "\n",
    "# loading features and lables\n",
    "X = normalize(iris['data'])\n",
    "y = (iris['target'] == 2).astype(np.int32)\n",
    "\n",
    "# train a logistic regression classifier\n",
    "clf = LogisticRegression()\n",
    "clf.fit(X, y)\n",
    "\n",
    "# estimated beta values and number of iterations\n",
    "print(\"Estimated regression coefficients:\\n\", clf.coef_)\n",
    "print(\"No. of iterations:\", clf.n_iter_)\n",
    "\n",
    "# predicted labels\n",
    "y_pred = clf.predict(X)\n",
    "\n",
    "# number of correctly predicted labels\n",
    "print(\"Correctly predicted labels:\", np.sum(y == y_pred))\n",
    "\n",
    "# solver used by logistic regression\n",
    "print(\"Solver used:\", clf.solver)"
   ]
  },
  {
   "cell_type": "markdown",
   "id": "09451d6e",
   "metadata": {},
   "source": [
    "### Plotting decision boundary:"
   ]
  },
  {
   "cell_type": "code",
   "execution_count": 5,
   "id": "d52f4cca",
   "metadata": {},
   "outputs": [
    {
     "data": {
      "image/png": "[encoded data removed]",
      "text/plain": [
       "<Figure size 432x288 with 1 Axes>"
      ]
     },
     "metadata": {
      "needs_background": "light"
     },
     "output_type": "display_data"
    }
   ],
   "source": [
    "from matplotlib.colors import ListedColormap\n",
    "\n",
    "X_set, y_set = X, y\n",
    "\n",
    "X1, X2 = np.meshgrid(np.arange(start = X_set[:, 0].min() - 1, stop = X_set[:, 0].max() + 1, step = 0.01), \n",
    "                     np.arange(start = X_set[:, 1].min() - 1, stop = X_set[:, 1].max() + 1, step = 0.01))\n",
    "\n",
    "X3, X4 = np.meshgrid(np.arange(start = X_set[:, 2].min() - 1, stop = X_set[:, 2].max() + 1, step = 0.01), \n",
    "                     np.arange(start = X_set[:, 3].min() - 1, stop = X_set[:, 3].max() + 1, step = 0.01))\n",
    "\n",
    "plt.contourf(X3, X4, clf.predict(np.array([X1.ravel(), X2.ravel(), X3.ravel(), X4.ravel()]).T).reshape(\n",
    "             X1.shape), alpha = 0.75, cmap = ListedColormap(('red', 'green')))\n",
    "\n",
    "plt.xlim(X1.min(), X1.max())\n",
    "plt.ylim(X2.min(), X2.max())\n",
    "\n",
    "for i, j in enumerate(np.unique(y_set)):\n",
    "\tplt.scatter(X_set[y_set == j, 2], X_set[y_set == j, 3], color = ListedColormap(('red', 'green'))(i), label = j)\n",
    "    \n",
    "plt.title('Classifier (Test set)')\n",
    "plt.legend()\n",
    "plt.show()"
   ]
  },
  {
   "cell_type": "markdown",
   "id": "ef27af50",
   "metadata": {},
   "source": [
    "## Multinomial Logistic Regression:\n",
    "In Multinomial Logistic Regression, the output variable can have more than two possible discrete outputs."
   ]
  },
  {
   "cell_type": "markdown",
   "id": "3a903625",
   "metadata": {},
   "source": [
    "### Example: Train a logistic regression classsifier to predict the type of a flower."
   ]
  },
  {
   "cell_type": "code",
   "execution_count": 6,
   "id": "2c364f9d",
   "metadata": {},
   "outputs": [
    {
     "name": "stdout",
     "output_type": "stream",
     "text": [
      "Estimated regression coefficients:\n",
      " [[-1.40492627  1.56002082 -2.86063347 -2.78713597]\n",
      " [ 0.26135757 -1.43723031  0.41839556 -0.47843834]\n",
      " [ 1.1435687  -0.12279052  2.44223791  3.2655743 ]]\n",
      "No. of iterations: [26]\n",
      "Correctly predicted labels: 141\n",
      "Solver used: lbfgs\n"
     ]
    }
   ],
   "source": [
    "# loading iris dataset\n",
    "iris = datasets.load_iris()\n",
    "\n",
    "# loading features and lables\n",
    "X = normalize(iris['data'])\n",
    "y = iris['target']\n",
    "\n",
    "# train a logistic regression classifier\n",
    "clf = LogisticRegression()\n",
    "clf.fit(X, y)\n",
    "\n",
    "# estimated beta values and number of iterations\n",
    "print(\"Estimated regression coefficients:\\n\", clf.coef_)\n",
    "print(\"No. of iterations:\", clf.n_iter_)\n",
    "\n",
    "# predicted labels\n",
    "y_pred = clf.predict(X)\n",
    "\n",
    "# number of correctly predicted labels\n",
    "print(\"Correctly predicted labels:\", np.sum(y == y_pred))\n",
    "\n",
    "# solver used by logistic regression\n",
    "print(\"Solver used:\", clf.solver)"
   ]
  },
  {
   "cell_type": "markdown",
   "id": "9d3afe0d",
   "metadata": {},
   "source": [
    "### Testing the classifier:"
   ]
  },
  {
   "cell_type": "code",
   "execution_count": 7,
   "id": "af371c2d",
   "metadata": {},
   "outputs": [
    {
     "name": "stdout",
     "output_type": "stream",
     "text": [
      "Iris-Virginica\n"
     ]
    }
   ],
   "source": [
    "y_pred = clf.predict([[5.9, 3.0, 5.1, 1.8]])\n",
    "print(\"Iris-Setosa\" if y_pred == [0] else \"Iris-Versicolour\" if y_pred == [1] else \"Iris-Virginica\")"
   ]
  },
  {
   "cell_type": "markdown",
   "id": "2144f8e7",
   "metadata": {},
   "source": [
    "### Plotting decision boundary:"
   ]
  },
  {
   "cell_type": "code",
   "execution_count": 8,
   "id": "aa44fe3f",
   "metadata": {},
   "outputs": [
    {
     "data": {
      "image/png": "[encoded data removed]",
      "text/plain": [
       "<Figure size 432x288 with 1 Axes>"
      ]
     },
     "metadata": {
      "needs_background": "light"
     },
     "output_type": "display_data"
    }
   ],
   "source": [
    "from matplotlib.colors import ListedColormap\n",
    "\n",
    "X_set, y_set = X, y\n",
    "\n",
    "X1, X2 = np.meshgrid(np.arange(start = X_set[:, 0].min() - 1, stop = X_set[:, 0].max() + 1, step = 0.01), \n",
    "                     np.arange(start = X_set[:, 1].min() - 1, stop = X_set[:, 1].max() + 1, step = 0.01))\n",
    "\n",
    "X3, X4 = np.meshgrid(np.arange(start = X_set[:, 2].min() - 1, stop = X_set[:, 2].max() + 1, step = 0.01), \n",
    "                     np.arange(start = X_set[:, 3].min() - 1, stop = X_set[:, 3].max() + 1, step = 0.01))\n",
    "\n",
    "plt.contourf(X3, X4, clf.predict(np.array([X1.ravel(), X2.ravel(), X3.ravel(), X4.ravel()]).T).reshape(\n",
    "             X1.shape), alpha = 0.75, cmap = ListedColormap(('red', 'green', 'blue')))\n",
    "\n",
    "plt.xlim(X1.min(), X1.max())\n",
    "plt.ylim(X2.min(), X2.max())\n",
    "\n",
    "for i, j in enumerate(np.unique(y_set)):\n",
    "\tplt.scatter(X_set[y_set == j, 2], X_set[y_set == j, 3], color = ListedColormap(('red', 'green', 'blue'))(i), label = j)\n",
    "    \n",
    "plt.title('Classifier (Test set)')\n",
    "plt.legend()\n",
    "plt.show()"
   ]
  },
  {
   "cell_type": "code",
   "execution_count": null,
   "id": "44e35633",
   "metadata": {},
   "outputs": [],
   "source": []
  }
 ],
 "metadata": {
  "kernelspec": {
   "display_name": "Python 3 (ipykernel)",
   "language": "python",
   "name": "python3"
  },
  "language_info": {
   "codemirror_mode": {
    "name": "ipython",
    "version": 3
   },
   "file_extension": ".py",
   "mimetype": "text/x-python",
   "name": "python",
   "nbconvert_exporter": "python",
   "pygments_lexer": "ipython3",
   "version": "3.9.6"
  }
 },
 "nbformat": 4,
 "nbformat_minor": 5
}
